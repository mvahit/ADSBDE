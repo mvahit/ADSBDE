{
 "cells": [
  {
   "cell_type": "code",
   "execution_count": 1,
   "metadata": {},
   "outputs": [],
   "source": [
    "import findspark\n",
    "import pandas as pd"
   ]
  },
  {
   "cell_type": "code",
   "execution_count": 2,
   "metadata": {},
   "outputs": [],
   "source": [
    "findspark.init(\"/opt/manual/spark/\")"
   ]
  },
  {
   "cell_type": "code",
   "execution_count": 3,
   "metadata": {},
   "outputs": [],
   "source": [
    "from pyspark.sql import SparkSession, functions as F"
   ]
  },
  {
   "cell_type": "markdown",
   "metadata": {},
   "source": [
    "# Create SparkSession"
   ]
  },
  {
   "cell_type": "code",
   "execution_count": 4,
   "metadata": {},
   "outputs": [],
   "source": [
    "spark = (SparkSession.builder\n",
    "        .appName(\"Model with Spark\")\n",
    "        .master(\"yarn\")\n",
    "        .enableHiveSupport()\n",
    "        .getOrCreate())\n",
    "# .config(\"spark.jars\",\"xgboost4j_2.12-1.2.0.jar,xgboost4j-spark_2.12-1.2.0.jar\")"
   ]
  },
  {
   "cell_type": "markdown",
   "metadata": {},
   "source": [
    "# Read data"
   ]
  },
  {
   "cell_type": "code",
   "execution_count": 5,
   "metadata": {},
   "outputs": [],
   "source": [
    "train_df = spark.sql(\"select * from homecredit.application_train_orc_snappy\")"
   ]
  },
  {
   "cell_type": "code",
   "execution_count": 6,
   "metadata": {},
   "outputs": [
    {
     "data": {
      "text/html": [
       "<div>\n",
       "<style scoped>\n",
       "    .dataframe tbody tr th:only-of-type {\n",
       "        vertical-align: middle;\n",
       "    }\n",
       "\n",
       "    .dataframe tbody tr th {\n",
       "        vertical-align: top;\n",
       "    }\n",
       "\n",
       "    .dataframe thead th {\n",
       "        text-align: right;\n",
       "    }\n",
       "</style>\n",
       "<table border=\"1\" class=\"dataframe\">\n",
       "  <thead>\n",
       "    <tr style=\"text-align: right;\">\n",
       "      <th></th>\n",
       "      <th>sk_id_curr</th>\n",
       "      <th>target</th>\n",
       "      <th>name_contract_type</th>\n",
       "      <th>code_gender</th>\n",
       "      <th>flag_own_car</th>\n",
       "      <th>flag_own_realty</th>\n",
       "      <th>cnt_children</th>\n",
       "      <th>amt_income_total</th>\n",
       "      <th>amt_credit</th>\n",
       "      <th>amt_annuity</th>\n",
       "      <th>...</th>\n",
       "      <th>flag_document_18</th>\n",
       "      <th>flag_document_19</th>\n",
       "      <th>flag_document_20</th>\n",
       "      <th>flag_document_21</th>\n",
       "      <th>amt_req_credit_bureau_hour</th>\n",
       "      <th>amt_req_credit_bureau_day</th>\n",
       "      <th>amt_req_credit_bureau_week</th>\n",
       "      <th>amt_req_credit_bureau_mon</th>\n",
       "      <th>amt_req_credit_bureau_qrt</th>\n",
       "      <th>amt_req_credit_bureau_year</th>\n",
       "    </tr>\n",
       "  </thead>\n",
       "  <tbody>\n",
       "    <tr>\n",
       "      <th>0</th>\n",
       "      <td>100002</td>\n",
       "      <td>1</td>\n",
       "      <td>Cash loans</td>\n",
       "      <td>M</td>\n",
       "      <td>N</td>\n",
       "      <td>Y</td>\n",
       "      <td>0</td>\n",
       "      <td>202500.0</td>\n",
       "      <td>406597.5</td>\n",
       "      <td>24700.5</td>\n",
       "      <td>...</td>\n",
       "      <td>0</td>\n",
       "      <td>0</td>\n",
       "      <td>0</td>\n",
       "      <td>0</td>\n",
       "      <td>0.0</td>\n",
       "      <td>0.0</td>\n",
       "      <td>0.0</td>\n",
       "      <td>0.0</td>\n",
       "      <td>0.0</td>\n",
       "      <td>1.0</td>\n",
       "    </tr>\n",
       "    <tr>\n",
       "      <th>1</th>\n",
       "      <td>100003</td>\n",
       "      <td>0</td>\n",
       "      <td>Cash loans</td>\n",
       "      <td>F</td>\n",
       "      <td>N</td>\n",
       "      <td>N</td>\n",
       "      <td>0</td>\n",
       "      <td>270000.0</td>\n",
       "      <td>1293502.5</td>\n",
       "      <td>35698.5</td>\n",
       "      <td>...</td>\n",
       "      <td>0</td>\n",
       "      <td>0</td>\n",
       "      <td>0</td>\n",
       "      <td>0</td>\n",
       "      <td>0.0</td>\n",
       "      <td>0.0</td>\n",
       "      <td>0.0</td>\n",
       "      <td>0.0</td>\n",
       "      <td>0.0</td>\n",
       "      <td>0.0</td>\n",
       "    </tr>\n",
       "    <tr>\n",
       "      <th>2</th>\n",
       "      <td>100004</td>\n",
       "      <td>0</td>\n",
       "      <td>Revolving loans</td>\n",
       "      <td>M</td>\n",
       "      <td>Y</td>\n",
       "      <td>Y</td>\n",
       "      <td>0</td>\n",
       "      <td>67500.0</td>\n",
       "      <td>135000.0</td>\n",
       "      <td>6750.0</td>\n",
       "      <td>...</td>\n",
       "      <td>0</td>\n",
       "      <td>0</td>\n",
       "      <td>0</td>\n",
       "      <td>0</td>\n",
       "      <td>0.0</td>\n",
       "      <td>0.0</td>\n",
       "      <td>0.0</td>\n",
       "      <td>0.0</td>\n",
       "      <td>0.0</td>\n",
       "      <td>0.0</td>\n",
       "    </tr>\n",
       "    <tr>\n",
       "      <th>3</th>\n",
       "      <td>100006</td>\n",
       "      <td>0</td>\n",
       "      <td>Cash loans</td>\n",
       "      <td>F</td>\n",
       "      <td>N</td>\n",
       "      <td>Y</td>\n",
       "      <td>0</td>\n",
       "      <td>135000.0</td>\n",
       "      <td>312682.5</td>\n",
       "      <td>29686.5</td>\n",
       "      <td>...</td>\n",
       "      <td>0</td>\n",
       "      <td>0</td>\n",
       "      <td>0</td>\n",
       "      <td>0</td>\n",
       "      <td>NaN</td>\n",
       "      <td>NaN</td>\n",
       "      <td>NaN</td>\n",
       "      <td>NaN</td>\n",
       "      <td>NaN</td>\n",
       "      <td>NaN</td>\n",
       "    </tr>\n",
       "    <tr>\n",
       "      <th>4</th>\n",
       "      <td>100007</td>\n",
       "      <td>0</td>\n",
       "      <td>Cash loans</td>\n",
       "      <td>M</td>\n",
       "      <td>N</td>\n",
       "      <td>Y</td>\n",
       "      <td>0</td>\n",
       "      <td>121500.0</td>\n",
       "      <td>513000.0</td>\n",
       "      <td>21865.5</td>\n",
       "      <td>...</td>\n",
       "      <td>0</td>\n",
       "      <td>0</td>\n",
       "      <td>0</td>\n",
       "      <td>0</td>\n",
       "      <td>0.0</td>\n",
       "      <td>0.0</td>\n",
       "      <td>0.0</td>\n",
       "      <td>0.0</td>\n",
       "      <td>0.0</td>\n",
       "      <td>0.0</td>\n",
       "    </tr>\n",
       "  </tbody>\n",
       "</table>\n",
       "<p>5 rows × 122 columns</p>\n",
       "</div>"
      ],
      "text/plain": [
       "   sk_id_curr  target name_contract_type code_gender flag_own_car  \\\n",
       "0      100002       1         Cash loans           M            N   \n",
       "1      100003       0         Cash loans           F            N   \n",
       "2      100004       0    Revolving loans           M            Y   \n",
       "3      100006       0         Cash loans           F            N   \n",
       "4      100007       0         Cash loans           M            N   \n",
       "\n",
       "  flag_own_realty  cnt_children  amt_income_total  amt_credit  amt_annuity  \\\n",
       "0               Y             0          202500.0    406597.5      24700.5   \n",
       "1               N             0          270000.0   1293502.5      35698.5   \n",
       "2               Y             0           67500.0    135000.0       6750.0   \n",
       "3               Y             0          135000.0    312682.5      29686.5   \n",
       "4               Y             0          121500.0    513000.0      21865.5   \n",
       "\n",
       "   ...  flag_document_18 flag_document_19 flag_document_20 flag_document_21  \\\n",
       "0  ...                 0                0                0                0   \n",
       "1  ...                 0                0                0                0   \n",
       "2  ...                 0                0                0                0   \n",
       "3  ...                 0                0                0                0   \n",
       "4  ...                 0                0                0                0   \n",
       "\n",
       "  amt_req_credit_bureau_hour amt_req_credit_bureau_day  \\\n",
       "0                        0.0                       0.0   \n",
       "1                        0.0                       0.0   \n",
       "2                        0.0                       0.0   \n",
       "3                        NaN                       NaN   \n",
       "4                        0.0                       0.0   \n",
       "\n",
       "   amt_req_credit_bureau_week  amt_req_credit_bureau_mon  \\\n",
       "0                         0.0                        0.0   \n",
       "1                         0.0                        0.0   \n",
       "2                         0.0                        0.0   \n",
       "3                         NaN                        NaN   \n",
       "4                         0.0                        0.0   \n",
       "\n",
       "   amt_req_credit_bureau_qrt  amt_req_credit_bureau_year  \n",
       "0                        0.0                         1.0  \n",
       "1                        0.0                         0.0  \n",
       "2                        0.0                         0.0  \n",
       "3                        NaN                         NaN  \n",
       "4                        0.0                         0.0  \n",
       "\n",
       "[5 rows x 122 columns]"
      ]
     },
     "execution_count": 6,
     "metadata": {},
     "output_type": "execute_result"
    }
   ],
   "source": [
    "train_df.limit(5).toPandas()"
   ]
  },
  {
   "cell_type": "code",
   "execution_count": 7,
   "metadata": {},
   "outputs": [
    {
     "data": {
      "text/plain": [
       "307511"
      ]
     },
     "execution_count": 7,
     "metadata": {},
     "output_type": "execute_result"
    }
   ],
   "source": [
    "train_df.count()"
   ]
  },
  {
   "cell_type": "code",
   "execution_count": 8,
   "metadata": {},
   "outputs": [],
   "source": [
    "test_df = spark.sql(\"select * from homecredit.application_test_orc_snappy\")"
   ]
  },
  {
   "cell_type": "code",
   "execution_count": 9,
   "metadata": {},
   "outputs": [
    {
     "data": {
      "text/plain": [
       "48744"
      ]
     },
     "execution_count": 9,
     "metadata": {},
     "output_type": "execute_result"
    }
   ],
   "source": [
    "test_df.count()"
   ]
  },
  {
   "cell_type": "code",
   "execution_count": 10,
   "metadata": {},
   "outputs": [
    {
     "name": "stdout",
     "output_type": "stream",
     "text": [
      "122\n",
      "121\n"
     ]
    }
   ],
   "source": [
    "print(len(train_df.columns))\n",
    "print(len(test_df.columns))"
   ]
  },
  {
   "cell_type": "markdown",
   "metadata": {},
   "source": [
    "# Schema"
   ]
  },
  {
   "cell_type": "code",
   "execution_count": 11,
   "metadata": {},
   "outputs": [
    {
     "name": "stdout",
     "output_type": "stream",
     "text": [
      "root\n",
      " |-- sk_id_curr: integer (nullable = true)\n",
      " |-- target: integer (nullable = true)\n",
      " |-- name_contract_type: string (nullable = true)\n",
      " |-- code_gender: string (nullable = true)\n",
      " |-- flag_own_car: string (nullable = true)\n",
      " |-- flag_own_realty: string (nullable = true)\n",
      " |-- cnt_children: integer (nullable = true)\n",
      " |-- amt_income_total: double (nullable = true)\n",
      " |-- amt_credit: double (nullable = true)\n",
      " |-- amt_annuity: double (nullable = true)\n",
      " |-- amt_goods_price: double (nullable = true)\n",
      " |-- name_type_suite: string (nullable = true)\n",
      " |-- name_income_type: string (nullable = true)\n",
      " |-- name_education_type: string (nullable = true)\n",
      " |-- name_family_status: string (nullable = true)\n",
      " |-- name_housing_type: string (nullable = true)\n",
      " |-- region_population_relative: double (nullable = true)\n",
      " |-- days_birth: integer (nullable = true)\n",
      " |-- days_employed: integer (nullable = true)\n",
      " |-- days_registration: double (nullable = true)\n",
      " |-- days_id_publish: integer (nullable = true)\n",
      " |-- own_car_age: double (nullable = true)\n",
      " |-- flag_mobil: integer (nullable = true)\n",
      " |-- flag_emp_phone: integer (nullable = true)\n",
      " |-- flag_work_phone: integer (nullable = true)\n",
      " |-- flag_cont_mobile: integer (nullable = true)\n",
      " |-- flag_phone: integer (nullable = true)\n",
      " |-- flag_email: integer (nullable = true)\n",
      " |-- occupation_type: string (nullable = true)\n",
      " |-- cnt_fam_members: double (nullable = true)\n",
      " |-- region_rating_client: integer (nullable = true)\n",
      " |-- region_rating_client_w_city: integer (nullable = true)\n",
      " |-- weekday_appr_process_start: string (nullable = true)\n",
      " |-- hour_appr_process_start: integer (nullable = true)\n",
      " |-- reg_region_not_live_region: integer (nullable = true)\n",
      " |-- reg_region_not_work_region: integer (nullable = true)\n",
      " |-- live_region_not_work_region: integer (nullable = true)\n",
      " |-- reg_city_not_live_city: integer (nullable = true)\n",
      " |-- reg_city_not_work_city: integer (nullable = true)\n",
      " |-- live_city_not_work_city: integer (nullable = true)\n",
      " |-- organization_type: string (nullable = true)\n",
      " |-- ext_source_1: double (nullable = true)\n",
      " |-- ext_source_2: double (nullable = true)\n",
      " |-- ext_source_3: double (nullable = true)\n",
      " |-- apartments_avg: double (nullable = true)\n",
      " |-- basementarea_avg: double (nullable = true)\n",
      " |-- years_beginexpluatation_avg: double (nullable = true)\n",
      " |-- years_build_avg: double (nullable = true)\n",
      " |-- commonarea_avg: double (nullable = true)\n",
      " |-- elevators_avg: double (nullable = true)\n",
      " |-- entrances_avg: double (nullable = true)\n",
      " |-- floorsmax_avg: double (nullable = true)\n",
      " |-- floorsmin_avg: double (nullable = true)\n",
      " |-- landarea_avg: double (nullable = true)\n",
      " |-- livingapartments_avg: double (nullable = true)\n",
      " |-- livingarea_avg: double (nullable = true)\n",
      " |-- nonlivingapartments_avg: double (nullable = true)\n",
      " |-- nonlivingarea_avg: double (nullable = true)\n",
      " |-- apartments_mode: double (nullable = true)\n",
      " |-- basementarea_mode: double (nullable = true)\n",
      " |-- years_beginexpluatation_mode: double (nullable = true)\n",
      " |-- years_build_mode: double (nullable = true)\n",
      " |-- commonarea_mode: double (nullable = true)\n",
      " |-- elevators_mode: double (nullable = true)\n",
      " |-- entrances_mode: double (nullable = true)\n",
      " |-- floorsmax_mode: double (nullable = true)\n",
      " |-- floorsmin_mode: double (nullable = true)\n",
      " |-- landarea_mode: double (nullable = true)\n",
      " |-- livingapartments_mode: double (nullable = true)\n",
      " |-- livingarea_mode: double (nullable = true)\n",
      " |-- nonlivingapartments_mode: double (nullable = true)\n",
      " |-- nonlivingarea_mode: double (nullable = true)\n",
      " |-- apartments_medi: double (nullable = true)\n",
      " |-- basementarea_medi: double (nullable = true)\n",
      " |-- years_beginexpluatation_medi: double (nullable = true)\n",
      " |-- years_build_medi: double (nullable = true)\n",
      " |-- commonarea_medi: double (nullable = true)\n",
      " |-- elevators_medi: double (nullable = true)\n",
      " |-- entrances_medi: double (nullable = true)\n",
      " |-- floorsmax_medi: double (nullable = true)\n",
      " |-- floorsmin_medi: double (nullable = true)\n",
      " |-- landarea_medi: double (nullable = true)\n",
      " |-- livingapartments_medi: double (nullable = true)\n",
      " |-- livingarea_medi: double (nullable = true)\n",
      " |-- nonlivingapartments_medi: double (nullable = true)\n",
      " |-- nonlivingarea_medi: double (nullable = true)\n",
      " |-- fondkapremont_mode: string (nullable = true)\n",
      " |-- housetype_mode: string (nullable = true)\n",
      " |-- totalarea_mode: double (nullable = true)\n",
      " |-- wallsmaterial_mode: string (nullable = true)\n",
      " |-- emergencystate_mode: string (nullable = true)\n",
      " |-- obs_30_cnt_social_circle: double (nullable = true)\n",
      " |-- def_30_cnt_social_circle: double (nullable = true)\n",
      " |-- obs_60_cnt_social_circle: double (nullable = true)\n",
      " |-- def_60_cnt_social_circle: double (nullable = true)\n",
      " |-- days_last_phone_change: double (nullable = true)\n",
      " |-- flag_document_2: integer (nullable = true)\n",
      " |-- flag_document_3: integer (nullable = true)\n",
      " |-- flag_document_4: integer (nullable = true)\n",
      " |-- flag_document_5: integer (nullable = true)\n",
      " |-- flag_document_6: integer (nullable = true)\n",
      " |-- flag_document_7: integer (nullable = true)\n",
      " |-- flag_document_8: integer (nullable = true)\n",
      " |-- flag_document_9: integer (nullable = true)\n",
      " |-- flag_document_10: integer (nullable = true)\n",
      " |-- flag_document_11: integer (nullable = true)\n",
      " |-- flag_document_12: integer (nullable = true)\n",
      " |-- flag_document_13: integer (nullable = true)\n",
      " |-- flag_document_14: integer (nullable = true)\n",
      " |-- flag_document_15: integer (nullable = true)\n",
      " |-- flag_document_16: integer (nullable = true)\n",
      " |-- flag_document_17: integer (nullable = true)\n",
      " |-- flag_document_18: integer (nullable = true)\n",
      " |-- flag_document_19: integer (nullable = true)\n",
      " |-- flag_document_20: integer (nullable = true)\n",
      " |-- flag_document_21: integer (nullable = true)\n",
      " |-- amt_req_credit_bureau_hour: double (nullable = true)\n",
      " |-- amt_req_credit_bureau_day: double (nullable = true)\n",
      " |-- amt_req_credit_bureau_week: double (nullable = true)\n",
      " |-- amt_req_credit_bureau_mon: double (nullable = true)\n",
      " |-- amt_req_credit_bureau_qrt: double (nullable = true)\n",
      " |-- amt_req_credit_bureau_year: double (nullable = true)\n",
      "\n"
     ]
    }
   ],
   "source": [
    "train_df.printSchema()"
   ]
  },
  {
   "cell_type": "code",
   "execution_count": 12,
   "metadata": {},
   "outputs": [],
   "source": [
    "# There is no complex type"
   ]
  },
  {
   "cell_type": "markdown",
   "metadata": {},
   "source": [
    "# Null check"
   ]
  },
  {
   "cell_type": "code",
   "execution_count": 13,
   "metadata": {},
   "outputs": [],
   "source": [
    "# Explore null values"
   ]
  },
  {
   "cell_type": "code",
   "execution_count": 14,
   "metadata": {
    "scrolled": true
   },
   "outputs": [
    {
     "name": "stdout",
     "output_type": "stream",
     "text": [
      "amt_annuity has 12 null and null ratio 0.0\n",
      "amt_goods_price has 278 null and null ratio 0.0009\n",
      "name_type_suite has 1292 null and null ratio 0.0042\n",
      "own_car_age has 202929 null and null ratio 0.6599\n",
      "occupation_type has 96391 null and null ratio 0.3135\n",
      "cnt_fam_members has 2 null and null ratio 0.0\n",
      "ext_source_1 has 173378 null and null ratio 0.5638\n",
      "ext_source_2 has 660 null and null ratio 0.0021\n",
      "ext_source_3 has 60965 null and null ratio 0.1983\n",
      "apartments_avg has 156061 null and null ratio 0.5075\n",
      "basementarea_avg has 179943 null and null ratio 0.5852\n",
      "years_beginexpluatation_avg has 150007 null and null ratio 0.4878\n",
      "years_build_avg has 204488 null and null ratio 0.665\n",
      "commonarea_avg has 214865 null and null ratio 0.6987\n",
      "elevators_avg has 163891 null and null ratio 0.533\n",
      "entrances_avg has 154828 null and null ratio 0.5035\n",
      "floorsmax_avg has 153020 null and null ratio 0.4976\n",
      "floorsmin_avg has 208642 null and null ratio 0.6785\n",
      "landarea_avg has 182590 null and null ratio 0.5938\n",
      "livingapartments_avg has 210199 null and null ratio 0.6835\n",
      "livingarea_avg has 154350 null and null ratio 0.5019\n",
      "nonlivingapartments_avg has 213514 null and null ratio 0.6943\n",
      "nonlivingarea_avg has 169682 null and null ratio 0.5518\n",
      "apartments_mode has 156061 null and null ratio 0.5075\n",
      "basementarea_mode has 179943 null and null ratio 0.5852\n",
      "years_beginexpluatation_mode has 150007 null and null ratio 0.4878\n",
      "years_build_mode has 204488 null and null ratio 0.665\n",
      "commonarea_mode has 214865 null and null ratio 0.6987\n",
      "elevators_mode has 163891 null and null ratio 0.533\n",
      "entrances_mode has 154828 null and null ratio 0.5035\n",
      "floorsmax_mode has 153020 null and null ratio 0.4976\n",
      "floorsmin_mode has 208642 null and null ratio 0.6785\n",
      "landarea_mode has 182590 null and null ratio 0.5938\n",
      "livingapartments_mode has 210199 null and null ratio 0.6835\n",
      "livingarea_mode has 154350 null and null ratio 0.5019\n",
      "nonlivingapartments_mode has 213514 null and null ratio 0.6943\n",
      "nonlivingarea_mode has 169682 null and null ratio 0.5518\n",
      "apartments_medi has 156061 null and null ratio 0.5075\n",
      "basementarea_medi has 179943 null and null ratio 0.5852\n",
      "years_beginexpluatation_medi has 150007 null and null ratio 0.4878\n",
      "years_build_medi has 204488 null and null ratio 0.665\n",
      "commonarea_medi has 214865 null and null ratio 0.6987\n",
      "elevators_medi has 163891 null and null ratio 0.533\n",
      "entrances_medi has 154828 null and null ratio 0.5035\n",
      "floorsmax_medi has 153020 null and null ratio 0.4976\n",
      "floorsmin_medi has 208642 null and null ratio 0.6785\n",
      "landarea_medi has 182590 null and null ratio 0.5938\n",
      "livingapartments_medi has 210199 null and null ratio 0.6835\n",
      "livingarea_medi has 154350 null and null ratio 0.5019\n",
      "nonlivingapartments_medi has 213514 null and null ratio 0.6943\n",
      "nonlivingarea_medi has 169682 null and null ratio 0.5518\n",
      "fondkapremont_mode has 210295 null and null ratio 0.6839\n",
      "housetype_mode has 154297 null and null ratio 0.5018\n",
      "totalarea_mode has 148431 null and null ratio 0.4827\n",
      "wallsmaterial_mode has 156341 null and null ratio 0.5084\n",
      "emergencystate_mode has 145755 null and null ratio 0.474\n",
      "obs_30_cnt_social_circle has 1021 null and null ratio 0.0033\n",
      "def_30_cnt_social_circle has 1021 null and null ratio 0.0033\n",
      "obs_60_cnt_social_circle has 1021 null and null ratio 0.0033\n",
      "def_60_cnt_social_circle has 1021 null and null ratio 0.0033\n",
      "days_last_phone_change has 1 null and null ratio 0.0\n",
      "amt_req_credit_bureau_hour has 41519 null and null ratio 0.135\n",
      "amt_req_credit_bureau_day has 41519 null and null ratio 0.135\n",
      "amt_req_credit_bureau_week has 41519 null and null ratio 0.135\n",
      "amt_req_credit_bureau_mon has 41519 null and null ratio 0.135\n",
      "amt_req_credit_bureau_qrt has 41519 null and null ratio 0.135\n",
      "amt_req_credit_bureau_year has 41519 null and null ratio 0.135\n"
     ]
    }
   ],
   "source": [
    "# This dict is for pandas dataframe to explore more comfortable null value exploration\n",
    "null_dict = {\n",
    "    \"columns\":train_df.columns,\n",
    "    \"null_count\": [],\n",
    "    \"has_null\":[],\n",
    "    \"null_ratio\":[]\n",
    "}\n",
    "\n",
    "# To calculate null_ratio we need to know record count\n",
    "df_count = float(train_df.count())\n",
    "\n",
    "for col in train_df.columns:\n",
    "    # If a column has null, nan or empty value calculate how many?\n",
    "    null_count = train_df.filter( (train_df[col].isNull()) |  \n",
    "                                 (train_df[col] == \"\") | \n",
    "                                 (F.isnan(F.col(col))) |\n",
    "                                 (train_df[col] == \"null\") |\n",
    "                                 (train_df[col] == \"NULL\")\n",
    "                                ).count()\n",
    "    # Append this calculated count to dictionary\n",
    "    null_dict[\"null_count\"].append(null_count)\n",
    "    # If null_count is gt 0 that means this column has atleast one null, nan or empty value.\n",
    "    if  null_count > 0 :\n",
    "        null_ratio = null_count/df_count\n",
    "        null_dict[\"null_ratio\"].append(null_ratio)\n",
    "        null_dict[\"has_null\"].append(True)\n",
    "        print(\"{} has {} null and null ratio {}\".format(col, null_count, round(null_ratio, 4)))\n",
    "    else:\n",
    "        # Add zero for non-null columns\n",
    "        null_dict[\"null_ratio\"].append(0.0)\n",
    "        # Add False for non-null columns\n",
    "        null_dict[\"has_null\"].append(False)"
   ]
  },
  {
   "cell_type": "code",
   "execution_count": 16,
   "metadata": {},
   "outputs": [],
   "source": [
    "# Create apandas dataframe from null_dictionary\n",
    "null_df = pd.DataFrame.from_dict(null_dict)"
   ]
  },
  {
   "cell_type": "code",
   "execution_count": 17,
   "metadata": {
    "scrolled": true
   },
   "outputs": [
    {
     "data": {
      "text/html": [
       "<div>\n",
       "<style scoped>\n",
       "    .dataframe tbody tr th:only-of-type {\n",
       "        vertical-align: middle;\n",
       "    }\n",
       "\n",
       "    .dataframe tbody tr th {\n",
       "        vertical-align: top;\n",
       "    }\n",
       "\n",
       "    .dataframe thead th {\n",
       "        text-align: right;\n",
       "    }\n",
       "</style>\n",
       "<table border=\"1\" class=\"dataframe\">\n",
       "  <thead>\n",
       "    <tr style=\"text-align: right;\">\n",
       "      <th></th>\n",
       "      <th>columns</th>\n",
       "      <th>null_count</th>\n",
       "      <th>has_null</th>\n",
       "      <th>null_ratio</th>\n",
       "    </tr>\n",
       "  </thead>\n",
       "  <tbody>\n",
       "    <tr>\n",
       "      <th>76</th>\n",
       "      <td>commonarea_medi</td>\n",
       "      <td>214865</td>\n",
       "      <td>True</td>\n",
       "      <td>0.698723</td>\n",
       "    </tr>\n",
       "    <tr>\n",
       "      <th>48</th>\n",
       "      <td>commonarea_avg</td>\n",
       "      <td>214865</td>\n",
       "      <td>True</td>\n",
       "      <td>0.698723</td>\n",
       "    </tr>\n",
       "    <tr>\n",
       "      <th>62</th>\n",
       "      <td>commonarea_mode</td>\n",
       "      <td>214865</td>\n",
       "      <td>True</td>\n",
       "      <td>0.698723</td>\n",
       "    </tr>\n",
       "    <tr>\n",
       "      <th>84</th>\n",
       "      <td>nonlivingapartments_medi</td>\n",
       "      <td>213514</td>\n",
       "      <td>True</td>\n",
       "      <td>0.694330</td>\n",
       "    </tr>\n",
       "    <tr>\n",
       "      <th>70</th>\n",
       "      <td>nonlivingapartments_mode</td>\n",
       "      <td>213514</td>\n",
       "      <td>True</td>\n",
       "      <td>0.694330</td>\n",
       "    </tr>\n",
       "    <tr>\n",
       "      <th>56</th>\n",
       "      <td>nonlivingapartments_avg</td>\n",
       "      <td>213514</td>\n",
       "      <td>True</td>\n",
       "      <td>0.694330</td>\n",
       "    </tr>\n",
       "    <tr>\n",
       "      <th>86</th>\n",
       "      <td>fondkapremont_mode</td>\n",
       "      <td>210295</td>\n",
       "      <td>True</td>\n",
       "      <td>0.683862</td>\n",
       "    </tr>\n",
       "    <tr>\n",
       "      <th>68</th>\n",
       "      <td>livingapartments_mode</td>\n",
       "      <td>210199</td>\n",
       "      <td>True</td>\n",
       "      <td>0.683550</td>\n",
       "    </tr>\n",
       "    <tr>\n",
       "      <th>82</th>\n",
       "      <td>livingapartments_medi</td>\n",
       "      <td>210199</td>\n",
       "      <td>True</td>\n",
       "      <td>0.683550</td>\n",
       "    </tr>\n",
       "    <tr>\n",
       "      <th>54</th>\n",
       "      <td>livingapartments_avg</td>\n",
       "      <td>210199</td>\n",
       "      <td>True</td>\n",
       "      <td>0.683550</td>\n",
       "    </tr>\n",
       "    <tr>\n",
       "      <th>66</th>\n",
       "      <td>floorsmin_mode</td>\n",
       "      <td>208642</td>\n",
       "      <td>True</td>\n",
       "      <td>0.678486</td>\n",
       "    </tr>\n",
       "    <tr>\n",
       "      <th>80</th>\n",
       "      <td>floorsmin_medi</td>\n",
       "      <td>208642</td>\n",
       "      <td>True</td>\n",
       "      <td>0.678486</td>\n",
       "    </tr>\n",
       "    <tr>\n",
       "      <th>52</th>\n",
       "      <td>floorsmin_avg</td>\n",
       "      <td>208642</td>\n",
       "      <td>True</td>\n",
       "      <td>0.678486</td>\n",
       "    </tr>\n",
       "    <tr>\n",
       "      <th>61</th>\n",
       "      <td>years_build_mode</td>\n",
       "      <td>204488</td>\n",
       "      <td>True</td>\n",
       "      <td>0.664978</td>\n",
       "    </tr>\n",
       "    <tr>\n",
       "      <th>75</th>\n",
       "      <td>years_build_medi</td>\n",
       "      <td>204488</td>\n",
       "      <td>True</td>\n",
       "      <td>0.664978</td>\n",
       "    </tr>\n",
       "    <tr>\n",
       "      <th>47</th>\n",
       "      <td>years_build_avg</td>\n",
       "      <td>204488</td>\n",
       "      <td>True</td>\n",
       "      <td>0.664978</td>\n",
       "    </tr>\n",
       "    <tr>\n",
       "      <th>21</th>\n",
       "      <td>own_car_age</td>\n",
       "      <td>202929</td>\n",
       "      <td>True</td>\n",
       "      <td>0.659908</td>\n",
       "    </tr>\n",
       "    <tr>\n",
       "      <th>53</th>\n",
       "      <td>landarea_avg</td>\n",
       "      <td>182590</td>\n",
       "      <td>True</td>\n",
       "      <td>0.593767</td>\n",
       "    </tr>\n",
       "    <tr>\n",
       "      <th>81</th>\n",
       "      <td>landarea_medi</td>\n",
       "      <td>182590</td>\n",
       "      <td>True</td>\n",
       "      <td>0.593767</td>\n",
       "    </tr>\n",
       "    <tr>\n",
       "      <th>67</th>\n",
       "      <td>landarea_mode</td>\n",
       "      <td>182590</td>\n",
       "      <td>True</td>\n",
       "      <td>0.593767</td>\n",
       "    </tr>\n",
       "    <tr>\n",
       "      <th>73</th>\n",
       "      <td>basementarea_medi</td>\n",
       "      <td>179943</td>\n",
       "      <td>True</td>\n",
       "      <td>0.585160</td>\n",
       "    </tr>\n",
       "    <tr>\n",
       "      <th>45</th>\n",
       "      <td>basementarea_avg</td>\n",
       "      <td>179943</td>\n",
       "      <td>True</td>\n",
       "      <td>0.585160</td>\n",
       "    </tr>\n",
       "    <tr>\n",
       "      <th>59</th>\n",
       "      <td>basementarea_mode</td>\n",
       "      <td>179943</td>\n",
       "      <td>True</td>\n",
       "      <td>0.585160</td>\n",
       "    </tr>\n",
       "    <tr>\n",
       "      <th>41</th>\n",
       "      <td>ext_source_1</td>\n",
       "      <td>173378</td>\n",
       "      <td>True</td>\n",
       "      <td>0.563811</td>\n",
       "    </tr>\n",
       "    <tr>\n",
       "      <th>85</th>\n",
       "      <td>nonlivingarea_medi</td>\n",
       "      <td>169682</td>\n",
       "      <td>True</td>\n",
       "      <td>0.551792</td>\n",
       "    </tr>\n",
       "    <tr>\n",
       "      <th>71</th>\n",
       "      <td>nonlivingarea_mode</td>\n",
       "      <td>169682</td>\n",
       "      <td>True</td>\n",
       "      <td>0.551792</td>\n",
       "    </tr>\n",
       "    <tr>\n",
       "      <th>57</th>\n",
       "      <td>nonlivingarea_avg</td>\n",
       "      <td>169682</td>\n",
       "      <td>True</td>\n",
       "      <td>0.551792</td>\n",
       "    </tr>\n",
       "    <tr>\n",
       "      <th>77</th>\n",
       "      <td>elevators_medi</td>\n",
       "      <td>163891</td>\n",
       "      <td>True</td>\n",
       "      <td>0.532960</td>\n",
       "    </tr>\n",
       "    <tr>\n",
       "      <th>63</th>\n",
       "      <td>elevators_mode</td>\n",
       "      <td>163891</td>\n",
       "      <td>True</td>\n",
       "      <td>0.532960</td>\n",
       "    </tr>\n",
       "    <tr>\n",
       "      <th>49</th>\n",
       "      <td>elevators_avg</td>\n",
       "      <td>163891</td>\n",
       "      <td>True</td>\n",
       "      <td>0.532960</td>\n",
       "    </tr>\n",
       "    <tr>\n",
       "      <th>89</th>\n",
       "      <td>wallsmaterial_mode</td>\n",
       "      <td>156341</td>\n",
       "      <td>True</td>\n",
       "      <td>0.508408</td>\n",
       "    </tr>\n",
       "    <tr>\n",
       "      <th>58</th>\n",
       "      <td>apartments_mode</td>\n",
       "      <td>156061</td>\n",
       "      <td>True</td>\n",
       "      <td>0.507497</td>\n",
       "    </tr>\n",
       "    <tr>\n",
       "      <th>72</th>\n",
       "      <td>apartments_medi</td>\n",
       "      <td>156061</td>\n",
       "      <td>True</td>\n",
       "      <td>0.507497</td>\n",
       "    </tr>\n",
       "    <tr>\n",
       "      <th>44</th>\n",
       "      <td>apartments_avg</td>\n",
       "      <td>156061</td>\n",
       "      <td>True</td>\n",
       "      <td>0.507497</td>\n",
       "    </tr>\n",
       "    <tr>\n",
       "      <th>64</th>\n",
       "      <td>entrances_mode</td>\n",
       "      <td>154828</td>\n",
       "      <td>True</td>\n",
       "      <td>0.503488</td>\n",
       "    </tr>\n",
       "    <tr>\n",
       "      <th>50</th>\n",
       "      <td>entrances_avg</td>\n",
       "      <td>154828</td>\n",
       "      <td>True</td>\n",
       "      <td>0.503488</td>\n",
       "    </tr>\n",
       "    <tr>\n",
       "      <th>78</th>\n",
       "      <td>entrances_medi</td>\n",
       "      <td>154828</td>\n",
       "      <td>True</td>\n",
       "      <td>0.503488</td>\n",
       "    </tr>\n",
       "    <tr>\n",
       "      <th>83</th>\n",
       "      <td>livingarea_medi</td>\n",
       "      <td>154350</td>\n",
       "      <td>True</td>\n",
       "      <td>0.501933</td>\n",
       "    </tr>\n",
       "    <tr>\n",
       "      <th>69</th>\n",
       "      <td>livingarea_mode</td>\n",
       "      <td>154350</td>\n",
       "      <td>True</td>\n",
       "      <td>0.501933</td>\n",
       "    </tr>\n",
       "    <tr>\n",
       "      <th>55</th>\n",
       "      <td>livingarea_avg</td>\n",
       "      <td>154350</td>\n",
       "      <td>True</td>\n",
       "      <td>0.501933</td>\n",
       "    </tr>\n",
       "    <tr>\n",
       "      <th>87</th>\n",
       "      <td>housetype_mode</td>\n",
       "      <td>154297</td>\n",
       "      <td>True</td>\n",
       "      <td>0.501761</td>\n",
       "    </tr>\n",
       "    <tr>\n",
       "      <th>79</th>\n",
       "      <td>floorsmax_medi</td>\n",
       "      <td>153020</td>\n",
       "      <td>True</td>\n",
       "      <td>0.497608</td>\n",
       "    </tr>\n",
       "    <tr>\n",
       "      <th>51</th>\n",
       "      <td>floorsmax_avg</td>\n",
       "      <td>153020</td>\n",
       "      <td>True</td>\n",
       "      <td>0.497608</td>\n",
       "    </tr>\n",
       "    <tr>\n",
       "      <th>65</th>\n",
       "      <td>floorsmax_mode</td>\n",
       "      <td>153020</td>\n",
       "      <td>True</td>\n",
       "      <td>0.497608</td>\n",
       "    </tr>\n",
       "    <tr>\n",
       "      <th>46</th>\n",
       "      <td>years_beginexpluatation_avg</td>\n",
       "      <td>150007</td>\n",
       "      <td>True</td>\n",
       "      <td>0.487810</td>\n",
       "    </tr>\n",
       "    <tr>\n",
       "      <th>74</th>\n",
       "      <td>years_beginexpluatation_medi</td>\n",
       "      <td>150007</td>\n",
       "      <td>True</td>\n",
       "      <td>0.487810</td>\n",
       "    </tr>\n",
       "    <tr>\n",
       "      <th>60</th>\n",
       "      <td>years_beginexpluatation_mode</td>\n",
       "      <td>150007</td>\n",
       "      <td>True</td>\n",
       "      <td>0.487810</td>\n",
       "    </tr>\n",
       "    <tr>\n",
       "      <th>88</th>\n",
       "      <td>totalarea_mode</td>\n",
       "      <td>148431</td>\n",
       "      <td>True</td>\n",
       "      <td>0.482685</td>\n",
       "    </tr>\n",
       "    <tr>\n",
       "      <th>90</th>\n",
       "      <td>emergencystate_mode</td>\n",
       "      <td>145755</td>\n",
       "      <td>True</td>\n",
       "      <td>0.473983</td>\n",
       "    </tr>\n",
       "    <tr>\n",
       "      <th>28</th>\n",
       "      <td>occupation_type</td>\n",
       "      <td>96391</td>\n",
       "      <td>True</td>\n",
       "      <td>0.313455</td>\n",
       "    </tr>\n",
       "    <tr>\n",
       "      <th>43</th>\n",
       "      <td>ext_source_3</td>\n",
       "      <td>60965</td>\n",
       "      <td>True</td>\n",
       "      <td>0.198253</td>\n",
       "    </tr>\n",
       "    <tr>\n",
       "      <th>118</th>\n",
       "      <td>amt_req_credit_bureau_week</td>\n",
       "      <td>41519</td>\n",
       "      <td>True</td>\n",
       "      <td>0.135016</td>\n",
       "    </tr>\n",
       "    <tr>\n",
       "      <th>117</th>\n",
       "      <td>amt_req_credit_bureau_day</td>\n",
       "      <td>41519</td>\n",
       "      <td>True</td>\n",
       "      <td>0.135016</td>\n",
       "    </tr>\n",
       "    <tr>\n",
       "      <th>119</th>\n",
       "      <td>amt_req_credit_bureau_mon</td>\n",
       "      <td>41519</td>\n",
       "      <td>True</td>\n",
       "      <td>0.135016</td>\n",
       "    </tr>\n",
       "    <tr>\n",
       "      <th>120</th>\n",
       "      <td>amt_req_credit_bureau_qrt</td>\n",
       "      <td>41519</td>\n",
       "      <td>True</td>\n",
       "      <td>0.135016</td>\n",
       "    </tr>\n",
       "    <tr>\n",
       "      <th>116</th>\n",
       "      <td>amt_req_credit_bureau_hour</td>\n",
       "      <td>41519</td>\n",
       "      <td>True</td>\n",
       "      <td>0.135016</td>\n",
       "    </tr>\n",
       "    <tr>\n",
       "      <th>121</th>\n",
       "      <td>amt_req_credit_bureau_year</td>\n",
       "      <td>41519</td>\n",
       "      <td>True</td>\n",
       "      <td>0.135016</td>\n",
       "    </tr>\n",
       "    <tr>\n",
       "      <th>11</th>\n",
       "      <td>name_type_suite</td>\n",
       "      <td>1292</td>\n",
       "      <td>True</td>\n",
       "      <td>0.004201</td>\n",
       "    </tr>\n",
       "    <tr>\n",
       "      <th>92</th>\n",
       "      <td>def_30_cnt_social_circle</td>\n",
       "      <td>1021</td>\n",
       "      <td>True</td>\n",
       "      <td>0.003320</td>\n",
       "    </tr>\n",
       "    <tr>\n",
       "      <th>93</th>\n",
       "      <td>obs_60_cnt_social_circle</td>\n",
       "      <td>1021</td>\n",
       "      <td>True</td>\n",
       "      <td>0.003320</td>\n",
       "    </tr>\n",
       "    <tr>\n",
       "      <th>94</th>\n",
       "      <td>def_60_cnt_social_circle</td>\n",
       "      <td>1021</td>\n",
       "      <td>True</td>\n",
       "      <td>0.003320</td>\n",
       "    </tr>\n",
       "    <tr>\n",
       "      <th>91</th>\n",
       "      <td>obs_30_cnt_social_circle</td>\n",
       "      <td>1021</td>\n",
       "      <td>True</td>\n",
       "      <td>0.003320</td>\n",
       "    </tr>\n",
       "    <tr>\n",
       "      <th>42</th>\n",
       "      <td>ext_source_2</td>\n",
       "      <td>660</td>\n",
       "      <td>True</td>\n",
       "      <td>0.002146</td>\n",
       "    </tr>\n",
       "    <tr>\n",
       "      <th>10</th>\n",
       "      <td>amt_goods_price</td>\n",
       "      <td>278</td>\n",
       "      <td>True</td>\n",
       "      <td>0.000904</td>\n",
       "    </tr>\n",
       "    <tr>\n",
       "      <th>9</th>\n",
       "      <td>amt_annuity</td>\n",
       "      <td>12</td>\n",
       "      <td>True</td>\n",
       "      <td>0.000039</td>\n",
       "    </tr>\n",
       "    <tr>\n",
       "      <th>29</th>\n",
       "      <td>cnt_fam_members</td>\n",
       "      <td>2</td>\n",
       "      <td>True</td>\n",
       "      <td>0.000007</td>\n",
       "    </tr>\n",
       "    <tr>\n",
       "      <th>95</th>\n",
       "      <td>days_last_phone_change</td>\n",
       "      <td>1</td>\n",
       "      <td>True</td>\n",
       "      <td>0.000003</td>\n",
       "    </tr>\n",
       "  </tbody>\n",
       "</table>\n",
       "</div>"
      ],
      "text/plain": [
       "                          columns  null_count  has_null  null_ratio\n",
       "76                commonarea_medi      214865      True    0.698723\n",
       "48                 commonarea_avg      214865      True    0.698723\n",
       "62                commonarea_mode      214865      True    0.698723\n",
       "84       nonlivingapartments_medi      213514      True    0.694330\n",
       "70       nonlivingapartments_mode      213514      True    0.694330\n",
       "56        nonlivingapartments_avg      213514      True    0.694330\n",
       "86             fondkapremont_mode      210295      True    0.683862\n",
       "68          livingapartments_mode      210199      True    0.683550\n",
       "82          livingapartments_medi      210199      True    0.683550\n",
       "54           livingapartments_avg      210199      True    0.683550\n",
       "66                 floorsmin_mode      208642      True    0.678486\n",
       "80                 floorsmin_medi      208642      True    0.678486\n",
       "52                  floorsmin_avg      208642      True    0.678486\n",
       "61               years_build_mode      204488      True    0.664978\n",
       "75               years_build_medi      204488      True    0.664978\n",
       "47                years_build_avg      204488      True    0.664978\n",
       "21                    own_car_age      202929      True    0.659908\n",
       "53                   landarea_avg      182590      True    0.593767\n",
       "81                  landarea_medi      182590      True    0.593767\n",
       "67                  landarea_mode      182590      True    0.593767\n",
       "73              basementarea_medi      179943      True    0.585160\n",
       "45               basementarea_avg      179943      True    0.585160\n",
       "59              basementarea_mode      179943      True    0.585160\n",
       "41                   ext_source_1      173378      True    0.563811\n",
       "85             nonlivingarea_medi      169682      True    0.551792\n",
       "71             nonlivingarea_mode      169682      True    0.551792\n",
       "57              nonlivingarea_avg      169682      True    0.551792\n",
       "77                 elevators_medi      163891      True    0.532960\n",
       "63                 elevators_mode      163891      True    0.532960\n",
       "49                  elevators_avg      163891      True    0.532960\n",
       "89             wallsmaterial_mode      156341      True    0.508408\n",
       "58                apartments_mode      156061      True    0.507497\n",
       "72                apartments_medi      156061      True    0.507497\n",
       "44                 apartments_avg      156061      True    0.507497\n",
       "64                 entrances_mode      154828      True    0.503488\n",
       "50                  entrances_avg      154828      True    0.503488\n",
       "78                 entrances_medi      154828      True    0.503488\n",
       "83                livingarea_medi      154350      True    0.501933\n",
       "69                livingarea_mode      154350      True    0.501933\n",
       "55                 livingarea_avg      154350      True    0.501933\n",
       "87                 housetype_mode      154297      True    0.501761\n",
       "79                 floorsmax_medi      153020      True    0.497608\n",
       "51                  floorsmax_avg      153020      True    0.497608\n",
       "65                 floorsmax_mode      153020      True    0.497608\n",
       "46    years_beginexpluatation_avg      150007      True    0.487810\n",
       "74   years_beginexpluatation_medi      150007      True    0.487810\n",
       "60   years_beginexpluatation_mode      150007      True    0.487810\n",
       "88                 totalarea_mode      148431      True    0.482685\n",
       "90            emergencystate_mode      145755      True    0.473983\n",
       "28                occupation_type       96391      True    0.313455\n",
       "43                   ext_source_3       60965      True    0.198253\n",
       "118    amt_req_credit_bureau_week       41519      True    0.135016\n",
       "117     amt_req_credit_bureau_day       41519      True    0.135016\n",
       "119     amt_req_credit_bureau_mon       41519      True    0.135016\n",
       "120     amt_req_credit_bureau_qrt       41519      True    0.135016\n",
       "116    amt_req_credit_bureau_hour       41519      True    0.135016\n",
       "121    amt_req_credit_bureau_year       41519      True    0.135016\n",
       "11                name_type_suite        1292      True    0.004201\n",
       "92       def_30_cnt_social_circle        1021      True    0.003320\n",
       "93       obs_60_cnt_social_circle        1021      True    0.003320\n",
       "94       def_60_cnt_social_circle        1021      True    0.003320\n",
       "91       obs_30_cnt_social_circle        1021      True    0.003320\n",
       "42                   ext_source_2         660      True    0.002146\n",
       "10                amt_goods_price         278      True    0.000904\n",
       "9                     amt_annuity          12      True    0.000039\n",
       "29                cnt_fam_members           2      True    0.000007\n",
       "95         days_last_phone_change           1      True    0.000003"
      ]
     },
     "execution_count": 17,
     "metadata": {},
     "output_type": "execute_result"
    }
   ],
   "source": [
    "# To prevent display row truncation\n",
    "pd.options.display.max_rows = 999\n",
    "null_df[null_df.has_null == True] \\\n",
    ".sort_values(\"null_ratio\", ascending=False) \\\n",
    ".head(100)"
   ]
  },
  {
   "cell_type": "code",
   "execution_count": 18,
   "metadata": {},
   "outputs": [],
   "source": [
    "# Filter out at least one null columns (has_null = True)\n",
    "null_df = null_df[null_df.has_null == True]"
   ]
  },
  {
   "cell_type": "markdown",
   "metadata": {},
   "source": [
    "# Drop higher ratio null columns"
   ]
  },
  {
   "cell_type": "code",
   "execution_count": 19,
   "metadata": {},
   "outputs": [],
   "source": [
    "# I decide to drop columns that null rate greater than %48"
   ]
  },
  {
   "cell_type": "code",
   "execution_count": 20,
   "metadata": {
    "scrolled": true
   },
   "outputs": [
    {
     "data": {
      "text/plain": [
       "21                     own_car_age\n",
       "41                    ext_source_1\n",
       "44                  apartments_avg\n",
       "45                basementarea_avg\n",
       "46     years_beginexpluatation_avg\n",
       "47                 years_build_avg\n",
       "48                  commonarea_avg\n",
       "49                   elevators_avg\n",
       "50                   entrances_avg\n",
       "51                   floorsmax_avg\n",
       "52                   floorsmin_avg\n",
       "53                    landarea_avg\n",
       "54            livingapartments_avg\n",
       "55                  livingarea_avg\n",
       "56         nonlivingapartments_avg\n",
       "57               nonlivingarea_avg\n",
       "58                 apartments_mode\n",
       "59               basementarea_mode\n",
       "60    years_beginexpluatation_mode\n",
       "61                years_build_mode\n",
       "62                 commonarea_mode\n",
       "63                  elevators_mode\n",
       "64                  entrances_mode\n",
       "65                  floorsmax_mode\n",
       "66                  floorsmin_mode\n",
       "67                   landarea_mode\n",
       "68           livingapartments_mode\n",
       "69                 livingarea_mode\n",
       "70        nonlivingapartments_mode\n",
       "71              nonlivingarea_mode\n",
       "72                 apartments_medi\n",
       "73               basementarea_medi\n",
       "74    years_beginexpluatation_medi\n",
       "75                years_build_medi\n",
       "76                 commonarea_medi\n",
       "77                  elevators_medi\n",
       "78                  entrances_medi\n",
       "79                  floorsmax_medi\n",
       "80                  floorsmin_medi\n",
       "81                   landarea_medi\n",
       "82           livingapartments_medi\n",
       "83                 livingarea_medi\n",
       "84        nonlivingapartments_medi\n",
       "85              nonlivingarea_medi\n",
       "86              fondkapremont_mode\n",
       "87                  housetype_mode\n",
       "88                  totalarea_mode\n",
       "89              wallsmaterial_mode\n",
       "Name: columns, dtype: object"
      ]
     },
     "execution_count": 20,
     "metadata": {},
     "output_type": "execute_result"
    }
   ],
   "source": [
    "# Select columns gt %48 null_ratio\n",
    "null_df.loc[null_df.null_ratio > 0.48].loc[:,\"columns\"].head(100)"
   ]
  },
  {
   "cell_type": "code",
   "execution_count": 21,
   "metadata": {},
   "outputs": [],
   "source": [
    "# Convert to list columns gt %48 null_ratio\n",
    "null_cols_to_drop = null_df.loc[null_df.null_ratio > 0.48].loc[:,\"columns\"].tolist()\n",
    "null_cols_to_stay = null_df.loc[null_df.null_ratio < 0.48].loc[:,\"columns\"].tolist()"
   ]
  },
  {
   "cell_type": "code",
   "execution_count": 22,
   "metadata": {},
   "outputs": [
    {
     "name": "stdout",
     "output_type": "stream",
     "text": [
      "null_cols_to_drop\n",
      "['own_car_age', 'ext_source_1', 'apartments_avg', 'basementarea_avg', 'years_beginexpluatation_avg', 'years_build_avg', 'commonarea_avg', 'elevators_avg', 'entrances_avg', 'floorsmax_avg', 'floorsmin_avg', 'landarea_avg', 'livingapartments_avg', 'livingarea_avg', 'nonlivingapartments_avg', 'nonlivingarea_avg', 'apartments_mode', 'basementarea_mode', 'years_beginexpluatation_mode', 'years_build_mode', 'commonarea_mode', 'elevators_mode', 'entrances_mode', 'floorsmax_mode', 'floorsmin_mode', 'landarea_mode', 'livingapartments_mode', 'livingarea_mode', 'nonlivingapartments_mode', 'nonlivingarea_mode', 'apartments_medi', 'basementarea_medi', 'years_beginexpluatation_medi', 'years_build_medi', 'commonarea_medi', 'elevators_medi', 'entrances_medi', 'floorsmax_medi', 'floorsmin_medi', 'landarea_medi', 'livingapartments_medi', 'livingarea_medi', 'nonlivingapartments_medi', 'nonlivingarea_medi', 'fondkapremont_mode', 'housetype_mode', 'totalarea_mode', 'wallsmaterial_mode']\n",
      "null_cols_to_stay\n",
      "['amt_annuity', 'amt_goods_price', 'name_type_suite', 'occupation_type', 'cnt_fam_members', 'ext_source_2', 'ext_source_3', 'emergencystate_mode', 'obs_30_cnt_social_circle', 'def_30_cnt_social_circle', 'obs_60_cnt_social_circle', 'def_60_cnt_social_circle', 'days_last_phone_change', 'amt_req_credit_bureau_hour', 'amt_req_credit_bureau_day', 'amt_req_credit_bureau_week', 'amt_req_credit_bureau_mon', 'amt_req_credit_bureau_qrt', 'amt_req_credit_bureau_year']\n"
     ]
    }
   ],
   "source": [
    "print(\"null_cols_to_drop\")\n",
    "print(null_cols_to_drop)\n",
    "print(\"null_cols_to_stay\")\n",
    "print(null_cols_to_stay)"
   ]
  },
  {
   "cell_type": "code",
   "execution_count": 23,
   "metadata": {},
   "outputs": [],
   "source": [
    "# Drop columns gt %48 null_ratio\n",
    "train_df2 = train_df.drop(*null_cols_to_drop)\n",
    "test_df2 = test_df.drop(*null_cols_to_drop)"
   ]
  },
  {
   "cell_type": "code",
   "execution_count": 24,
   "metadata": {},
   "outputs": [
    {
     "name": "stdout",
     "output_type": "stream",
     "text": [
      "74\n",
      "73\n"
     ]
    }
   ],
   "source": [
    "print(len(train_df2.columns))\n",
    "print(len(test_df2.columns))"
   ]
  },
  {
   "cell_type": "markdown",
   "metadata": {},
   "source": [
    "# Split numeric and categoric columns"
   ]
  },
  {
   "cell_type": "code",
   "execution_count": 25,
   "metadata": {},
   "outputs": [],
   "source": [
    "categoric_cols = []\n",
    "numeric_cols = []\n",
    "label_col = ['target']\n",
    "\n",
    "for col in train_df2.dtypes:\n",
    "    if (col[0] not in label_col):\n",
    "        if col[1] == 'string':\n",
    "            categoric_cols.append(col[0])\n",
    "        else:\n",
    "            numeric_cols.append(col[0])"
   ]
  },
  {
   "cell_type": "code",
   "execution_count": 26,
   "metadata": {},
   "outputs": [
    {
     "name": "stdout",
     "output_type": "stream",
     "text": [
      "['name_contract_type', 'code_gender', 'flag_own_car', 'flag_own_realty', 'name_type_suite', 'name_income_type', 'name_education_type', 'name_family_status', 'name_housing_type', 'occupation_type', 'weekday_appr_process_start', 'organization_type', 'emergencystate_mode']\n"
     ]
    }
   ],
   "source": [
    "print(categoric_cols)"
   ]
  },
  {
   "cell_type": "code",
   "execution_count": 27,
   "metadata": {},
   "outputs": [
    {
     "name": "stdout",
     "output_type": "stream",
     "text": [
      "['sk_id_curr', 'cnt_children', 'amt_income_total', 'amt_credit', 'amt_annuity', 'amt_goods_price', 'region_population_relative', 'days_birth', 'days_employed', 'days_registration', 'days_id_publish', 'flag_mobil', 'flag_emp_phone', 'flag_work_phone', 'flag_cont_mobile', 'flag_phone', 'flag_email', 'cnt_fam_members', 'region_rating_client', 'region_rating_client_w_city', 'hour_appr_process_start', 'reg_region_not_live_region', 'reg_region_not_work_region', 'live_region_not_work_region', 'reg_city_not_live_city', 'reg_city_not_work_city', 'live_city_not_work_city', 'ext_source_2', 'ext_source_3', 'obs_30_cnt_social_circle', 'def_30_cnt_social_circle', 'obs_60_cnt_social_circle', 'def_60_cnt_social_circle', 'days_last_phone_change', 'flag_document_2', 'flag_document_3', 'flag_document_4', 'flag_document_5', 'flag_document_6', 'flag_document_7', 'flag_document_8', 'flag_document_9', 'flag_document_10', 'flag_document_11', 'flag_document_12', 'flag_document_13', 'flag_document_14', 'flag_document_15', 'flag_document_16', 'flag_document_17', 'flag_document_18', 'flag_document_19', 'flag_document_20', 'flag_document_21', 'amt_req_credit_bureau_hour', 'amt_req_credit_bureau_day', 'amt_req_credit_bureau_week', 'amt_req_credit_bureau_mon', 'amt_req_credit_bureau_qrt', 'amt_req_credit_bureau_year']\n"
     ]
    }
   ],
   "source": [
    "print(numeric_cols)"
   ]
  },
  {
   "cell_type": "code",
   "execution_count": 28,
   "metadata": {},
   "outputs": [
    {
     "name": "stdout",
     "output_type": "stream",
     "text": [
      "['target']\n"
     ]
    }
   ],
   "source": [
    "print(label_col)"
   ]
  },
  {
   "cell_type": "code",
   "execution_count": 29,
   "metadata": {},
   "outputs": [
    {
     "name": "stdout",
     "output_type": "stream",
     "text": [
      "74\n"
     ]
    }
   ],
   "source": [
    "print(len(categoric_cols)+len(numeric_cols)+len(label_col))"
   ]
  },
  {
   "cell_type": "code",
   "execution_count": 30,
   "metadata": {},
   "outputs": [
    {
     "name": "stdout",
     "output_type": "stream",
     "text": [
      "columns split is successful.\n"
     ]
    }
   ],
   "source": [
    "if len(train_df2.columns) == (len(categoric_cols)+len(numeric_cols)+len(label_col)):\n",
    "    print(\"columns split is successful.\")\n",
    "else: print(\"there is a mistake column split ops.\")"
   ]
  },
  {
   "cell_type": "markdown",
   "metadata": {},
   "source": [
    "# Trim categorical columns"
   ]
  },
  {
   "cell_type": "code",
   "execution_count": 31,
   "metadata": {},
   "outputs": [],
   "source": [
    "for col_name in categoric_cols:\n",
    "    train_df2 = train_df2.withColumn(col_name, F.trim(F.col(col_name)))"
   ]
  },
  {
   "cell_type": "markdown",
   "metadata": {},
   "source": [
    "# Explore categorical columns including nulls"
   ]
  },
  {
   "cell_type": "code",
   "execution_count": 32,
   "metadata": {},
   "outputs": [
    {
     "name": "stdout",
     "output_type": "stream",
     "text": [
      "['name_type_suite', 'emergencystate_mode', 'occupation_type']\n"
     ]
    }
   ],
   "source": [
    "null_cat_cols = list(set(categoric_cols).intersection(set(null_cols_to_stay)))\n",
    "print(null_cat_cols)"
   ]
  },
  {
   "cell_type": "code",
   "execution_count": 33,
   "metadata": {},
   "outputs": [
    {
     "name": "stdout",
     "output_type": "stream",
     "text": [
      "+---------------+-----------+\n",
      "|name_type_suite|total_count|\n",
      "+---------------+-----------+\n",
      "|  Unaccompanied|     248526|\n",
      "|         Family|      40149|\n",
      "|Spouse, partner|      11370|\n",
      "|       Children|       3267|\n",
      "|        Other_B|       1770|\n",
      "|           null|       1292|\n",
      "|        Other_A|        866|\n",
      "|Group of people|        271|\n",
      "+---------------+-----------+\n",
      "\n",
      "+-------------------+-----------+\n",
      "|emergencystate_mode|total_count|\n",
      "+-------------------+-----------+\n",
      "|                 No|     159428|\n",
      "|               null|     145755|\n",
      "|                Yes|       2328|\n",
      "+-------------------+-----------+\n",
      "\n",
      "+--------------------+-----------+\n",
      "|     occupation_type|total_count|\n",
      "+--------------------+-----------+\n",
      "|                null|      96391|\n",
      "|            Laborers|      55186|\n",
      "|         Sales staff|      32102|\n",
      "|          Core staff|      27570|\n",
      "|            Managers|      21371|\n",
      "|             Drivers|      18603|\n",
      "|High skill tech s...|      11380|\n",
      "|         Accountants|       9813|\n",
      "|      Medicine staff|       8537|\n",
      "|      Security staff|       6721|\n",
      "|       Cooking staff|       5946|\n",
      "|      Cleaning staff|       4653|\n",
      "|Private service s...|       2652|\n",
      "|  Low-skill Laborers|       2093|\n",
      "|Waiters/barmen staff|       1348|\n",
      "|         Secretaries|       1305|\n",
      "|       Realty agents|        751|\n",
      "|            HR staff|        563|\n",
      "|            IT staff|        526|\n",
      "+--------------------+-----------+\n",
      "\n"
     ]
    }
   ],
   "source": [
    "for col in null_cat_cols:\n",
    "    train_df2.groupBy(col).agg(F.count(\"*\").alias(\"total_count\")).orderBy(F.desc(\"total_count\")).show()"
   ]
  },
  {
   "cell_type": "code",
   "execution_count": 34,
   "metadata": {},
   "outputs": [],
   "source": [
    "# There are three categorical null columns. Assign Unknown for nulls."
   ]
  },
  {
   "cell_type": "code",
   "execution_count": 35,
   "metadata": {},
   "outputs": [],
   "source": [
    "for col in null_cat_cols:\n",
    "    train_df2 = train_df2.withColumn(col, F.when( ((train_df2[col].isNull()) |  \n",
    "                                 (train_df2[col] == \"\") | \n",
    "                                 (F.isnan(F.col(col))) |\n",
    "                                 (train_df2[col] == \"null\") |\n",
    "                                 (train_df2[col] == \"NULL\")), \"Unknown_\").otherwise(F.col(col)))"
   ]
  },
  {
   "cell_type": "code",
   "execution_count": 36,
   "metadata": {},
   "outputs": [],
   "source": [
    "for col in null_cat_cols:\n",
    "    test_df2 = test_df2.withColumn(col, F.when( ((test_df2[col].isNull()) |  \n",
    "                                 (test_df2[col] == \"\") | \n",
    "                                 (F.isnan(F.col(col))) |\n",
    "                                 (test_df2[col] == \"null\") |\n",
    "                                 (test_df2[col] == \"NULL\")), \"Unknown_\").otherwise(F.col(col)))"
   ]
  },
  {
   "cell_type": "markdown",
   "metadata": {},
   "source": [
    "# Explore numeric columns including nulls"
   ]
  },
  {
   "cell_type": "code",
   "execution_count": 37,
   "metadata": {
    "scrolled": true
   },
   "outputs": [
    {
     "name": "stdout",
     "output_type": "stream",
     "text": [
      "cnt_fam_members\n",
      "+-----------------+\n",
      "|             mean|\n",
      "+-----------------+\n",
      "|2.152665450442101|\n",
      "+-----------------+\n",
      "\n",
      "amt_req_credit_bureau_qrt\n",
      "+-------------------+\n",
      "|               mean|\n",
      "+-------------------+\n",
      "|0.26547414959848414|\n",
      "+-------------------+\n",
      "\n",
      "amt_req_credit_bureau_mon\n",
      "+-------------------+\n",
      "|               mean|\n",
      "+-------------------+\n",
      "|0.26739526000781977|\n",
      "+-------------------+\n",
      "\n",
      "ext_source_3\n",
      "+------------------+\n",
      "|              mean|\n",
      "+------------------+\n",
      "|0.5108529061800121|\n",
      "+------------------+\n",
      "\n",
      "obs_60_cnt_social_circle\n",
      "+------------------+\n",
      "|              mean|\n",
      "+------------------+\n",
      "|1.4052921791901856|\n",
      "+------------------+\n",
      "\n",
      "amt_req_credit_bureau_hour\n",
      "+--------------------+\n",
      "|                mean|\n",
      "+--------------------+\n",
      "|0.006402448193930645|\n",
      "+--------------------+\n",
      "\n",
      "ext_source_2\n",
      "+------------------+\n",
      "|              mean|\n",
      "+------------------+\n",
      "|0.5143926741308463|\n",
      "+------------------+\n",
      "\n",
      "def_60_cnt_social_circle\n",
      "+-------------------+\n",
      "|               mean|\n",
      "+-------------------+\n",
      "|0.10004894123788705|\n",
      "+-------------------+\n",
      "\n",
      "amt_req_credit_bureau_week\n",
      "+------------------+\n",
      "|              mean|\n",
      "+------------------+\n",
      "|0.0343619356973142|\n",
      "+------------------+\n",
      "\n",
      "days_last_phone_change\n",
      "+------------------+\n",
      "|              mean|\n",
      "+------------------+\n",
      "|-962.8587883320868|\n",
      "+------------------+\n",
      "\n",
      "amt_annuity\n",
      "+------------------+\n",
      "|              mean|\n",
      "+------------------+\n",
      "|27108.573909183444|\n",
      "+------------------+\n",
      "\n",
      "def_30_cnt_social_circle\n",
      "+------------------+\n",
      "|              mean|\n",
      "+------------------+\n",
      "|0.1434206662533851|\n",
      "+------------------+\n",
      "\n",
      "obs_30_cnt_social_circle\n",
      "+------------------+\n",
      "|              mean|\n",
      "+------------------+\n",
      "|1.4222454239942575|\n",
      "+------------------+\n",
      "\n",
      "amt_req_credit_bureau_day\n",
      "+--------------------+\n",
      "|                mean|\n",
      "+--------------------+\n",
      "|0.007000210532647...|\n",
      "+--------------------+\n",
      "\n",
      "amt_req_credit_bureau_year\n",
      "+-----------------+\n",
      "|             mean|\n",
      "+-----------------+\n",
      "|1.899974435321363|\n",
      "+-----------------+\n",
      "\n",
      "amt_goods_price\n",
      "+-----------------+\n",
      "|             mean|\n",
      "+-----------------+\n",
      "|538396.2074288895|\n",
      "+-----------------+\n",
      "\n"
     ]
    }
   ],
   "source": [
    "null_num_cols = list(set(numeric_cols).intersection(set(null_cols_to_stay)))\n",
    "null_num_cols_dict = {\n",
    "    \"null_num_cols\" : null_num_cols,\n",
    "    \"means\": []\n",
    "}\n",
    "for col in null_num_cols:\n",
    "    print(col)\n",
    "    train_df2.select(F.mean(col).alias(\"mean\")).show()\n",
    "    col_mean1 = train_df2.select(F.mean(col).alias(\"mean\")).head(1)\n",
    "    col_mean = col_mean1[0].asDict()[\"mean\"]\n",
    "    null_num_cols_dict[\"means\"].append(col_mean)\n",
    "    "
   ]
  },
  {
   "cell_type": "code",
   "execution_count": 38,
   "metadata": {},
   "outputs": [
    {
     "data": {
      "text/plain": [
       "[2.152665450442101,\n",
       " 0.26547414959848414,\n",
       " 0.26739526000781977,\n",
       " 0.5108529061800121,\n",
       " 1.4052921791901856,\n",
       " 0.006402448193930645,\n",
       " 0.5143926741308463,\n",
       " 0.10004894123788705,\n",
       " 0.0343619356973142,\n",
       " -962.8587883320868,\n",
       " 27108.573909183444,\n",
       " 0.1434206662533851,\n",
       " 1.4222454239942575,\n",
       " 0.0070002105326475985,\n",
       " 1.899974435321363,\n",
       " 538396.2074288895]"
      ]
     },
     "execution_count": 38,
     "metadata": {},
     "output_type": "execute_result"
    }
   ],
   "source": [
    "null_num_cols_dict[\"means\"]"
   ]
  },
  {
   "cell_type": "code",
   "execution_count": 39,
   "metadata": {},
   "outputs": [
    {
     "data": {
      "text/html": [
       "<div>\n",
       "<style scoped>\n",
       "    .dataframe tbody tr th:only-of-type {\n",
       "        vertical-align: middle;\n",
       "    }\n",
       "\n",
       "    .dataframe tbody tr th {\n",
       "        vertical-align: top;\n",
       "    }\n",
       "\n",
       "    .dataframe thead th {\n",
       "        text-align: right;\n",
       "    }\n",
       "</style>\n",
       "<table border=\"1\" class=\"dataframe\">\n",
       "  <thead>\n",
       "    <tr style=\"text-align: right;\">\n",
       "      <th></th>\n",
       "      <th>null_num_cols</th>\n",
       "      <th>means</th>\n",
       "    </tr>\n",
       "  </thead>\n",
       "  <tbody>\n",
       "    <tr>\n",
       "      <th>0</th>\n",
       "      <td>cnt_fam_members</td>\n",
       "      <td>2.152665</td>\n",
       "    </tr>\n",
       "    <tr>\n",
       "      <th>1</th>\n",
       "      <td>amt_req_credit_bureau_qrt</td>\n",
       "      <td>0.265474</td>\n",
       "    </tr>\n",
       "    <tr>\n",
       "      <th>2</th>\n",
       "      <td>amt_req_credit_bureau_mon</td>\n",
       "      <td>0.267395</td>\n",
       "    </tr>\n",
       "    <tr>\n",
       "      <th>3</th>\n",
       "      <td>ext_source_3</td>\n",
       "      <td>0.510853</td>\n",
       "    </tr>\n",
       "    <tr>\n",
       "      <th>4</th>\n",
       "      <td>obs_60_cnt_social_circle</td>\n",
       "      <td>1.405292</td>\n",
       "    </tr>\n",
       "  </tbody>\n",
       "</table>\n",
       "</div>"
      ],
      "text/plain": [
       "               null_num_cols     means\n",
       "0            cnt_fam_members  2.152665\n",
       "1  amt_req_credit_bureau_qrt  0.265474\n",
       "2  amt_req_credit_bureau_mon  0.267395\n",
       "3               ext_source_3  0.510853\n",
       "4   obs_60_cnt_social_circle  1.405292"
      ]
     },
     "execution_count": 39,
     "metadata": {},
     "output_type": "execute_result"
    }
   ],
   "source": [
    "num_col_means_df = pd.DataFrame.from_dict(null_num_cols_dict)\n",
    "num_col_means_df.head()"
   ]
  },
  {
   "cell_type": "markdown",
   "metadata": {},
   "source": [
    "# Fill numeric nulls with mean"
   ]
  },
  {
   "cell_type": "code",
   "execution_count": 40,
   "metadata": {},
   "outputs": [
    {
     "name": "stdout",
     "output_type": "stream",
     "text": [
      "cnt_fam_members 2.152665450442101\n",
      "amt_req_credit_bureau_qrt 0.26547414959848414\n",
      "amt_req_credit_bureau_mon 0.26739526000781977\n",
      "ext_source_3 0.5108529061800121\n",
      "obs_60_cnt_social_circle 1.4052921791901856\n",
      "amt_req_credit_bureau_hour 0.006402448193930645\n",
      "ext_source_2 0.5143926741308463\n",
      "def_60_cnt_social_circle 0.10004894123788705\n",
      "amt_req_credit_bureau_week 0.0343619356973142\n",
      "days_last_phone_change -962.8587883320868\n",
      "amt_annuity 27108.573909183444\n",
      "def_30_cnt_social_circle 0.1434206662533851\n",
      "obs_30_cnt_social_circle 1.4222454239942575\n",
      "amt_req_credit_bureau_day 0.0070002105326475985\n",
      "amt_req_credit_bureau_year 1.899974435321363\n",
      "amt_goods_price 538396.2074288895\n"
     ]
    }
   ],
   "source": [
    "null_num_cols = list(set(numeric_cols).intersection(set(null_cols_to_stay)))\n",
    "for col, mean in zip(null_num_cols, null_num_cols_dict[\"means\"]):\n",
    "    train_df2 = train_df2.withColumn(col, F.when( ((train_df2[col].isNull()) |  \n",
    "                                 (train_df2[col] == \"\") | \n",
    "                                 (F.isnan(F.col(col))) |\n",
    "                                 (train_df2[col] == \"null\") |\n",
    "                                 (train_df2[col] == \"NULL\")), mean).otherwise(F.col(col)))\n",
    "    print(col, mean)"
   ]
  },
  {
   "cell_type": "code",
   "execution_count": 41,
   "metadata": {},
   "outputs": [
    {
     "name": "stdout",
     "output_type": "stream",
     "text": [
      "cnt_fam_members 2.152665450442101\n",
      "amt_req_credit_bureau_qrt 0.26547414959848414\n",
      "amt_req_credit_bureau_mon 0.26739526000781977\n",
      "ext_source_3 0.5108529061800121\n",
      "obs_60_cnt_social_circle 1.4052921791901856\n",
      "amt_req_credit_bureau_hour 0.006402448193930645\n",
      "ext_source_2 0.5143926741308463\n",
      "def_60_cnt_social_circle 0.10004894123788705\n",
      "amt_req_credit_bureau_week 0.0343619356973142\n",
      "days_last_phone_change -962.8587883320868\n",
      "amt_annuity 27108.573909183444\n",
      "def_30_cnt_social_circle 0.1434206662533851\n",
      "obs_30_cnt_social_circle 1.4222454239942575\n",
      "amt_req_credit_bureau_day 0.0070002105326475985\n",
      "amt_req_credit_bureau_year 1.899974435321363\n",
      "amt_goods_price 538396.2074288895\n"
     ]
    }
   ],
   "source": [
    "null_num_cols = list(set(numeric_cols).intersection(set(null_cols_to_stay)))\n",
    "for col, mean in zip(null_num_cols, null_num_cols_dict[\"means\"]):\n",
    "    test_df2 = test_df2.withColumn(col, F.when( ((test_df2[col].isNull()) |  \n",
    "                                 (test_df2[col] == \"\") | \n",
    "                                 (F.isnan(F.col(col))) |\n",
    "                                 (test_df2[col] == \"null\") |\n",
    "                                 (test_df2[col] == \"NULL\")), mean).otherwise(F.col(col)))\n",
    "    print(col, mean)"
   ]
  },
  {
   "cell_type": "code",
   "execution_count": 42,
   "metadata": {},
   "outputs": [
    {
     "data": {
      "text/html": [
       "<div>\n",
       "<style scoped>\n",
       "    .dataframe tbody tr th:only-of-type {\n",
       "        vertical-align: middle;\n",
       "    }\n",
       "\n",
       "    .dataframe tbody tr th {\n",
       "        vertical-align: top;\n",
       "    }\n",
       "\n",
       "    .dataframe thead th {\n",
       "        text-align: right;\n",
       "    }\n",
       "</style>\n",
       "<table border=\"1\" class=\"dataframe\">\n",
       "  <thead>\n",
       "    <tr style=\"text-align: right;\">\n",
       "      <th></th>\n",
       "      <th>sk_id_curr</th>\n",
       "      <th>target</th>\n",
       "      <th>name_contract_type</th>\n",
       "      <th>code_gender</th>\n",
       "      <th>flag_own_car</th>\n",
       "      <th>flag_own_realty</th>\n",
       "      <th>cnt_children</th>\n",
       "      <th>amt_income_total</th>\n",
       "      <th>amt_credit</th>\n",
       "      <th>amt_annuity</th>\n",
       "      <th>...</th>\n",
       "      <th>flag_document_18</th>\n",
       "      <th>flag_document_19</th>\n",
       "      <th>flag_document_20</th>\n",
       "      <th>flag_document_21</th>\n",
       "      <th>amt_req_credit_bureau_hour</th>\n",
       "      <th>amt_req_credit_bureau_day</th>\n",
       "      <th>amt_req_credit_bureau_week</th>\n",
       "      <th>amt_req_credit_bureau_mon</th>\n",
       "      <th>amt_req_credit_bureau_qrt</th>\n",
       "      <th>amt_req_credit_bureau_year</th>\n",
       "    </tr>\n",
       "  </thead>\n",
       "  <tbody>\n",
       "    <tr>\n",
       "      <th>0</th>\n",
       "      <td>100002</td>\n",
       "      <td>1</td>\n",
       "      <td>Cash loans</td>\n",
       "      <td>M</td>\n",
       "      <td>N</td>\n",
       "      <td>Y</td>\n",
       "      <td>0</td>\n",
       "      <td>202500.0</td>\n",
       "      <td>406597.5</td>\n",
       "      <td>24700.5</td>\n",
       "      <td>...</td>\n",
       "      <td>0</td>\n",
       "      <td>0</td>\n",
       "      <td>0</td>\n",
       "      <td>0</td>\n",
       "      <td>0.000000</td>\n",
       "      <td>0.000</td>\n",
       "      <td>0.000000</td>\n",
       "      <td>0.000000</td>\n",
       "      <td>0.000000</td>\n",
       "      <td>1.000000</td>\n",
       "    </tr>\n",
       "    <tr>\n",
       "      <th>1</th>\n",
       "      <td>100003</td>\n",
       "      <td>0</td>\n",
       "      <td>Cash loans</td>\n",
       "      <td>F</td>\n",
       "      <td>N</td>\n",
       "      <td>N</td>\n",
       "      <td>0</td>\n",
       "      <td>270000.0</td>\n",
       "      <td>1293502.5</td>\n",
       "      <td>35698.5</td>\n",
       "      <td>...</td>\n",
       "      <td>0</td>\n",
       "      <td>0</td>\n",
       "      <td>0</td>\n",
       "      <td>0</td>\n",
       "      <td>0.000000</td>\n",
       "      <td>0.000</td>\n",
       "      <td>0.000000</td>\n",
       "      <td>0.000000</td>\n",
       "      <td>0.000000</td>\n",
       "      <td>0.000000</td>\n",
       "    </tr>\n",
       "    <tr>\n",
       "      <th>2</th>\n",
       "      <td>100004</td>\n",
       "      <td>0</td>\n",
       "      <td>Revolving loans</td>\n",
       "      <td>M</td>\n",
       "      <td>Y</td>\n",
       "      <td>Y</td>\n",
       "      <td>0</td>\n",
       "      <td>67500.0</td>\n",
       "      <td>135000.0</td>\n",
       "      <td>6750.0</td>\n",
       "      <td>...</td>\n",
       "      <td>0</td>\n",
       "      <td>0</td>\n",
       "      <td>0</td>\n",
       "      <td>0</td>\n",
       "      <td>0.000000</td>\n",
       "      <td>0.000</td>\n",
       "      <td>0.000000</td>\n",
       "      <td>0.000000</td>\n",
       "      <td>0.000000</td>\n",
       "      <td>0.000000</td>\n",
       "    </tr>\n",
       "    <tr>\n",
       "      <th>3</th>\n",
       "      <td>100006</td>\n",
       "      <td>0</td>\n",
       "      <td>Cash loans</td>\n",
       "      <td>F</td>\n",
       "      <td>N</td>\n",
       "      <td>Y</td>\n",
       "      <td>0</td>\n",
       "      <td>135000.0</td>\n",
       "      <td>312682.5</td>\n",
       "      <td>29686.5</td>\n",
       "      <td>...</td>\n",
       "      <td>0</td>\n",
       "      <td>0</td>\n",
       "      <td>0</td>\n",
       "      <td>0</td>\n",
       "      <td>0.006402</td>\n",
       "      <td>0.007</td>\n",
       "      <td>0.034362</td>\n",
       "      <td>0.267395</td>\n",
       "      <td>0.265474</td>\n",
       "      <td>1.899974</td>\n",
       "    </tr>\n",
       "    <tr>\n",
       "      <th>4</th>\n",
       "      <td>100007</td>\n",
       "      <td>0</td>\n",
       "      <td>Cash loans</td>\n",
       "      <td>M</td>\n",
       "      <td>N</td>\n",
       "      <td>Y</td>\n",
       "      <td>0</td>\n",
       "      <td>121500.0</td>\n",
       "      <td>513000.0</td>\n",
       "      <td>21865.5</td>\n",
       "      <td>...</td>\n",
       "      <td>0</td>\n",
       "      <td>0</td>\n",
       "      <td>0</td>\n",
       "      <td>0</td>\n",
       "      <td>0.000000</td>\n",
       "      <td>0.000</td>\n",
       "      <td>0.000000</td>\n",
       "      <td>0.000000</td>\n",
       "      <td>0.000000</td>\n",
       "      <td>0.000000</td>\n",
       "    </tr>\n",
       "    <tr>\n",
       "      <th>5</th>\n",
       "      <td>100008</td>\n",
       "      <td>0</td>\n",
       "      <td>Cash loans</td>\n",
       "      <td>M</td>\n",
       "      <td>N</td>\n",
       "      <td>Y</td>\n",
       "      <td>0</td>\n",
       "      <td>99000.0</td>\n",
       "      <td>490495.5</td>\n",
       "      <td>27517.5</td>\n",
       "      <td>...</td>\n",
       "      <td>0</td>\n",
       "      <td>0</td>\n",
       "      <td>0</td>\n",
       "      <td>0</td>\n",
       "      <td>0.000000</td>\n",
       "      <td>0.000</td>\n",
       "      <td>0.000000</td>\n",
       "      <td>0.000000</td>\n",
       "      <td>1.000000</td>\n",
       "      <td>1.000000</td>\n",
       "    </tr>\n",
       "    <tr>\n",
       "      <th>6</th>\n",
       "      <td>100009</td>\n",
       "      <td>0</td>\n",
       "      <td>Cash loans</td>\n",
       "      <td>F</td>\n",
       "      <td>Y</td>\n",
       "      <td>Y</td>\n",
       "      <td>1</td>\n",
       "      <td>171000.0</td>\n",
       "      <td>1560726.0</td>\n",
       "      <td>41301.0</td>\n",
       "      <td>...</td>\n",
       "      <td>0</td>\n",
       "      <td>0</td>\n",
       "      <td>0</td>\n",
       "      <td>0</td>\n",
       "      <td>0.000000</td>\n",
       "      <td>0.000</td>\n",
       "      <td>0.000000</td>\n",
       "      <td>1.000000</td>\n",
       "      <td>1.000000</td>\n",
       "      <td>2.000000</td>\n",
       "    </tr>\n",
       "    <tr>\n",
       "      <th>7</th>\n",
       "      <td>100010</td>\n",
       "      <td>0</td>\n",
       "      <td>Cash loans</td>\n",
       "      <td>M</td>\n",
       "      <td>Y</td>\n",
       "      <td>Y</td>\n",
       "      <td>0</td>\n",
       "      <td>360000.0</td>\n",
       "      <td>1530000.0</td>\n",
       "      <td>42075.0</td>\n",
       "      <td>...</td>\n",
       "      <td>0</td>\n",
       "      <td>0</td>\n",
       "      <td>0</td>\n",
       "      <td>0</td>\n",
       "      <td>0.000000</td>\n",
       "      <td>0.000</td>\n",
       "      <td>0.000000</td>\n",
       "      <td>0.000000</td>\n",
       "      <td>0.000000</td>\n",
       "      <td>0.000000</td>\n",
       "    </tr>\n",
       "    <tr>\n",
       "      <th>8</th>\n",
       "      <td>100011</td>\n",
       "      <td>0</td>\n",
       "      <td>Cash loans</td>\n",
       "      <td>F</td>\n",
       "      <td>N</td>\n",
       "      <td>Y</td>\n",
       "      <td>0</td>\n",
       "      <td>112500.0</td>\n",
       "      <td>1019610.0</td>\n",
       "      <td>33826.5</td>\n",
       "      <td>...</td>\n",
       "      <td>0</td>\n",
       "      <td>0</td>\n",
       "      <td>0</td>\n",
       "      <td>0</td>\n",
       "      <td>0.000000</td>\n",
       "      <td>0.000</td>\n",
       "      <td>0.000000</td>\n",
       "      <td>0.000000</td>\n",
       "      <td>0.000000</td>\n",
       "      <td>1.000000</td>\n",
       "    </tr>\n",
       "    <tr>\n",
       "      <th>9</th>\n",
       "      <td>100012</td>\n",
       "      <td>0</td>\n",
       "      <td>Revolving loans</td>\n",
       "      <td>M</td>\n",
       "      <td>N</td>\n",
       "      <td>Y</td>\n",
       "      <td>0</td>\n",
       "      <td>135000.0</td>\n",
       "      <td>405000.0</td>\n",
       "      <td>20250.0</td>\n",
       "      <td>...</td>\n",
       "      <td>0</td>\n",
       "      <td>0</td>\n",
       "      <td>0</td>\n",
       "      <td>0</td>\n",
       "      <td>0.006402</td>\n",
       "      <td>0.007</td>\n",
       "      <td>0.034362</td>\n",
       "      <td>0.267395</td>\n",
       "      <td>0.265474</td>\n",
       "      <td>1.899974</td>\n",
       "    </tr>\n",
       "  </tbody>\n",
       "</table>\n",
       "<p>10 rows × 74 columns</p>\n",
       "</div>"
      ],
      "text/plain": [
       "   sk_id_curr  target name_contract_type code_gender flag_own_car  \\\n",
       "0      100002       1         Cash loans           M            N   \n",
       "1      100003       0         Cash loans           F            N   \n",
       "2      100004       0    Revolving loans           M            Y   \n",
       "3      100006       0         Cash loans           F            N   \n",
       "4      100007       0         Cash loans           M            N   \n",
       "5      100008       0         Cash loans           M            N   \n",
       "6      100009       0         Cash loans           F            Y   \n",
       "7      100010       0         Cash loans           M            Y   \n",
       "8      100011       0         Cash loans           F            N   \n",
       "9      100012       0    Revolving loans           M            N   \n",
       "\n",
       "  flag_own_realty  cnt_children  amt_income_total  amt_credit  amt_annuity  \\\n",
       "0               Y             0          202500.0    406597.5      24700.5   \n",
       "1               N             0          270000.0   1293502.5      35698.5   \n",
       "2               Y             0           67500.0    135000.0       6750.0   \n",
       "3               Y             0          135000.0    312682.5      29686.5   \n",
       "4               Y             0          121500.0    513000.0      21865.5   \n",
       "5               Y             0           99000.0    490495.5      27517.5   \n",
       "6               Y             1          171000.0   1560726.0      41301.0   \n",
       "7               Y             0          360000.0   1530000.0      42075.0   \n",
       "8               Y             0          112500.0   1019610.0      33826.5   \n",
       "9               Y             0          135000.0    405000.0      20250.0   \n",
       "\n",
       "   ...  flag_document_18 flag_document_19 flag_document_20 flag_document_21  \\\n",
       "0  ...                 0                0                0                0   \n",
       "1  ...                 0                0                0                0   \n",
       "2  ...                 0                0                0                0   \n",
       "3  ...                 0                0                0                0   \n",
       "4  ...                 0                0                0                0   \n",
       "5  ...                 0                0                0                0   \n",
       "6  ...                 0                0                0                0   \n",
       "7  ...                 0                0                0                0   \n",
       "8  ...                 0                0                0                0   \n",
       "9  ...                 0                0                0                0   \n",
       "\n",
       "  amt_req_credit_bureau_hour amt_req_credit_bureau_day  \\\n",
       "0                   0.000000                     0.000   \n",
       "1                   0.000000                     0.000   \n",
       "2                   0.000000                     0.000   \n",
       "3                   0.006402                     0.007   \n",
       "4                   0.000000                     0.000   \n",
       "5                   0.000000                     0.000   \n",
       "6                   0.000000                     0.000   \n",
       "7                   0.000000                     0.000   \n",
       "8                   0.000000                     0.000   \n",
       "9                   0.006402                     0.007   \n",
       "\n",
       "   amt_req_credit_bureau_week  amt_req_credit_bureau_mon  \\\n",
       "0                    0.000000                   0.000000   \n",
       "1                    0.000000                   0.000000   \n",
       "2                    0.000000                   0.000000   \n",
       "3                    0.034362                   0.267395   \n",
       "4                    0.000000                   0.000000   \n",
       "5                    0.000000                   0.000000   \n",
       "6                    0.000000                   1.000000   \n",
       "7                    0.000000                   0.000000   \n",
       "8                    0.000000                   0.000000   \n",
       "9                    0.034362                   0.267395   \n",
       "\n",
       "   amt_req_credit_bureau_qrt  amt_req_credit_bureau_year  \n",
       "0                   0.000000                    1.000000  \n",
       "1                   0.000000                    0.000000  \n",
       "2                   0.000000                    0.000000  \n",
       "3                   0.265474                    1.899974  \n",
       "4                   0.000000                    0.000000  \n",
       "5                   1.000000                    1.000000  \n",
       "6                   1.000000                    2.000000  \n",
       "7                   0.000000                    0.000000  \n",
       "8                   0.000000                    1.000000  \n",
       "9                   0.265474                    1.899974  \n",
       "\n",
       "[10 rows x 74 columns]"
      ]
     },
     "execution_count": 42,
     "metadata": {},
     "output_type": "execute_result"
    }
   ],
   "source": [
    "train_df2.limit(10).toPandas()"
   ]
  },
  {
   "cell_type": "code",
   "execution_count": 43,
   "metadata": {},
   "outputs": [
    {
     "data": {
      "text/plain": [
       "74"
      ]
     },
     "execution_count": 43,
     "metadata": {},
     "output_type": "execute_result"
    }
   ],
   "source": [
    "len(train_df2.columns)"
   ]
  },
  {
   "cell_type": "markdown",
   "metadata": {},
   "source": [
    "# Distinct categories in categoric_cols"
   ]
  },
  {
   "cell_type": "code",
   "execution_count": 73,
   "metadata": {
    "scrolled": true
   },
   "outputs": [
    {
     "name": "stdout",
     "output_type": "stream",
     "text": [
      "name_contract_type 2\n",
      "code_gender 3\n",
      "flag_own_car 2\n",
      "flag_own_realty 2\n",
      "name_type_suite 8\n",
      "name_income_type 8\n",
      "name_education_type 5\n",
      "name_family_status 6\n",
      "name_housing_type 6\n",
      "occupation_type 19\n",
      "weekday_appr_process_start 7\n",
      "organization_type has dropped because it has too many caregories 58\n",
      "emergencystate_mode 3\n"
     ]
    }
   ],
   "source": [
    "# We don't want too much categories if a column has more categories than max_distinct_cat\n",
    "# we want to drop that column\n",
    "\n",
    "max_distinct_cat=20\n",
    "cat_cols_and_distinc_cls_dict = {}\n",
    "drop_cols_too_many_clss = []\n",
    "for col in categoric_cols:\n",
    "    dist_count = train_df2.select(F.countDistinct(col).alias(\"distinct\")).head(1)[0].asDict()[\"distinct\"]\n",
    "    if dist_count < max_distinct_cat:\n",
    "        cat_cols_and_distinc_cls_dict[col] = dist_count\n",
    "        print(col,dist_count)\n",
    "    else:\n",
    "        print(\"{} has dropped because it has too many ({}) caregories \".format(col, dist_count))\n",
    "        drop_cols_too_many_clss.append(col)"
   ]
  },
  {
   "cell_type": "code",
   "execution_count": 76,
   "metadata": {
    "scrolled": true
   },
   "outputs": [
    {
     "name": "stdout",
     "output_type": "stream",
     "text": [
      "{'name_contract_type': 2, 'code_gender': 3, 'flag_own_car': 2, 'flag_own_realty': 2, 'name_type_suite': 8, 'name_income_type': 8, 'name_education_type': 5, 'name_family_status': 6, 'name_housing_type': 6, 'occupation_type': 19, 'weekday_appr_process_start': 7, 'emergencystate_mode': 3}\n"
     ]
    }
   ],
   "source": [
    "print(cat_cols_and_distinc_cls_dict)"
   ]
  },
  {
   "cell_type": "markdown",
   "metadata": {},
   "source": [
    "# Weak classes in categoric cols"
   ]
  },
  {
   "cell_type": "code",
   "execution_count": 45,
   "metadata": {},
   "outputs": [],
   "source": [
    "# We put Unknown_. If you see Unknown it is already in original data source."
   ]
  },
  {
   "cell_type": "code",
   "execution_count": 78,
   "metadata": {
    "scrolled": false
   },
   "outputs": [
    {
     "name": "stdout",
     "output_type": "stream",
     "text": [
      "+------------------+-----------+-----------+\n",
      "|name_contract_type|total_count|class_ratio|\n",
      "+------------------+-----------+-----------+\n",
      "|        Cash loans|     278232|     0.9048|\n",
      "|   Revolving loans|      29279|     0.0952|\n",
      "+------------------+-----------+-----------+\n",
      "\n",
      "+-----------+-----------+-----------+\n",
      "|code_gender|total_count|class_ratio|\n",
      "+-----------+-----------+-----------+\n",
      "|          F|     202448|     0.6583|\n",
      "|          M|     105059|     0.3416|\n",
      "|        XNA|          4|        0.0|\n",
      "+-----------+-----------+-----------+\n",
      "\n",
      "+------------+-----------+-----------+\n",
      "|flag_own_car|total_count|class_ratio|\n",
      "+------------+-----------+-----------+\n",
      "|           N|     202924|     0.6599|\n",
      "|           Y|     104587|     0.3401|\n",
      "+------------+-----------+-----------+\n",
      "\n",
      "+---------------+-----------+-----------+\n",
      "|flag_own_realty|total_count|class_ratio|\n",
      "+---------------+-----------+-----------+\n",
      "|              Y|     213312|     0.6937|\n",
      "|              N|      94199|     0.3063|\n",
      "+---------------+-----------+-----------+\n",
      "\n",
      "+---------------+-----------+-----------+\n",
      "|name_type_suite|total_count|class_ratio|\n",
      "+---------------+-----------+-----------+\n",
      "|  Unaccompanied|     248526|     0.8082|\n",
      "|         Family|      40149|     0.1306|\n",
      "|Spouse, partner|      11370|      0.037|\n",
      "|       Children|       3267|     0.0106|\n",
      "|        Other_B|       1770|     0.0058|\n",
      "|       Unknown_|       1292|     0.0042|\n",
      "|        Other_A|        866|     0.0028|\n",
      "|Group of people|        271|     9.0E-4|\n",
      "+---------------+-----------+-----------+\n",
      "\n",
      "+--------------------+-----------+-----------+\n",
      "|    name_income_type|total_count|class_ratio|\n",
      "+--------------------+-----------+-----------+\n",
      "|             Working|     158774|     0.5163|\n",
      "|Commercial associate|      71617|     0.2329|\n",
      "|           Pensioner|      55362|       0.18|\n",
      "|       State servant|      21703|     0.0706|\n",
      "|          Unemployed|         22|     1.0E-4|\n",
      "|             Student|         18|     1.0E-4|\n",
      "|         Businessman|         10|        0.0|\n",
      "|     Maternity leave|          5|        0.0|\n",
      "+--------------------+-----------+-----------+\n",
      "\n",
      "+--------------------+-----------+-----------+\n",
      "| name_education_type|total_count|class_ratio|\n",
      "+--------------------+-----------+-----------+\n",
      "|Secondary / secon...|     218391|     0.7102|\n",
      "|    Higher education|      74863|     0.2434|\n",
      "|   Incomplete higher|      10277|     0.0334|\n",
      "|     Lower secondary|       3816|     0.0124|\n",
      "|     Academic degree|        164|     5.0E-4|\n",
      "+--------------------+-----------+-----------+\n",
      "\n",
      "+--------------------+-----------+-----------+\n",
      "|  name_family_status|total_count|class_ratio|\n",
      "+--------------------+-----------+-----------+\n",
      "|             Married|     196432|     0.6388|\n",
      "|Single / not married|      45444|     0.1478|\n",
      "|      Civil marriage|      29775|     0.0968|\n",
      "|           Separated|      19770|     0.0643|\n",
      "|               Widow|      16088|     0.0523|\n",
      "|             Unknown|          2|        0.0|\n",
      "+--------------------+-----------+-----------+\n",
      "\n",
      "+-------------------+-----------+-----------+\n",
      "|  name_housing_type|total_count|class_ratio|\n",
      "+-------------------+-----------+-----------+\n",
      "|  House / apartment|     272868|     0.8873|\n",
      "|       With parents|      14840|     0.0483|\n",
      "|Municipal apartment|      11183|     0.0364|\n",
      "|   Rented apartment|       4881|     0.0159|\n",
      "|   Office apartment|       2617|     0.0085|\n",
      "|    Co-op apartment|       1122|     0.0036|\n",
      "+-------------------+-----------+-----------+\n",
      "\n",
      "+--------------------+-----------+-----------+\n",
      "|     occupation_type|total_count|class_ratio|\n",
      "+--------------------+-----------+-----------+\n",
      "|            Unknown_|      96391|     0.3135|\n",
      "|            Laborers|      55186|     0.1795|\n",
      "|         Sales staff|      32102|     0.1044|\n",
      "|          Core staff|      27570|     0.0897|\n",
      "|            Managers|      21371|     0.0695|\n",
      "|             Drivers|      18603|     0.0605|\n",
      "|High skill tech s...|      11380|      0.037|\n",
      "|         Accountants|       9813|     0.0319|\n",
      "|      Medicine staff|       8537|     0.0278|\n",
      "|      Security staff|       6721|     0.0219|\n",
      "|       Cooking staff|       5946|     0.0193|\n",
      "|      Cleaning staff|       4653|     0.0151|\n",
      "|Private service s...|       2652|     0.0086|\n",
      "|  Low-skill Laborers|       2093|     0.0068|\n",
      "|Waiters/barmen staff|       1348|     0.0044|\n",
      "|         Secretaries|       1305|     0.0042|\n",
      "|       Realty agents|        751|     0.0024|\n",
      "|            HR staff|        563|     0.0018|\n",
      "|            IT staff|        526|     0.0017|\n",
      "+--------------------+-----------+-----------+\n",
      "\n",
      "+--------------------------+-----------+-----------+\n",
      "|weekday_appr_process_start|total_count|class_ratio|\n",
      "+--------------------------+-----------+-----------+\n",
      "|                   TUESDAY|      53901|     0.1753|\n",
      "|                 WEDNESDAY|      51934|     0.1689|\n",
      "|                    MONDAY|      50714|     0.1649|\n",
      "|                  THURSDAY|      50591|     0.1645|\n",
      "|                    FRIDAY|      50338|     0.1637|\n",
      "|                  SATURDAY|      33852|     0.1101|\n",
      "|                    SUNDAY|      16181|     0.0526|\n",
      "+--------------------------+-----------+-----------+\n",
      "\n",
      "+-------------------+-----------+-----------+\n",
      "|emergencystate_mode|total_count|class_ratio|\n",
      "+-------------------+-----------+-----------+\n",
      "|                 No|     159428|     0.5184|\n",
      "|           Unknown_|     145755|      0.474|\n",
      "|                Yes|       2328|     0.0076|\n",
      "+-------------------+-----------+-----------+\n",
      "\n"
     ]
    }
   ],
   "source": [
    "train_df2_count = train_df2.count()\n",
    "for col in cat_cols_and_distinc_cls_dict.keys():\n",
    "    train_df2.groupBy(col) \\\n",
    "    .agg(F.count(\"*\").alias(\"total_count\")) \\\n",
    "    .orderBy(F.desc(\"total_count\")) \\\n",
    "    .withColumn(\"class_ratio\", F.round( F.col(\"total_count\") / F.lit(train_df2_count),4 )) \\\n",
    "    .show()"
   ]
  },
  {
   "cell_type": "code",
   "execution_count": 108,
   "metadata": {
    "scrolled": false
   },
   "outputs": [
    {
     "name": "stdout",
     "output_type": "stream",
     "text": [
      "{'name_contract_type': {}}\n",
      "[]\n",
      "307511\n",
      "+------------------+-----------+-----------+\n",
      "|name_contract_type|total_count|class_ratio|\n",
      "+------------------+-----------+-----------+\n",
      "+------------------+-----------+-----------+\n",
      "\n",
      "{'code_gender': {0: 'XNA'}}\n",
      "['XNA']\n",
      "307507\n",
      "+-----------+-----------+-----------+\n",
      "|code_gender|total_count|class_ratio|\n",
      "+-----------+-----------+-----------+\n",
      "|        XNA|          4|        0.0|\n",
      "+-----------+-----------+-----------+\n",
      "\n",
      "{'flag_own_car': {}}\n",
      "[]\n",
      "307507\n",
      "+------------+-----------+-----------+\n",
      "|flag_own_car|total_count|class_ratio|\n",
      "+------------+-----------+-----------+\n",
      "+------------+-----------+-----------+\n",
      "\n",
      "{'flag_own_realty': {}}\n",
      "[]\n",
      "307507\n",
      "+---------------+-----------+-----------+\n",
      "|flag_own_realty|total_count|class_ratio|\n",
      "+---------------+-----------+-----------+\n",
      "+---------------+-----------+-----------+\n",
      "\n",
      "{'name_type_suite': {}}\n",
      "[]\n",
      "307507\n",
      "+---------------+-----------+-----------+\n",
      "|name_type_suite|total_count|class_ratio|\n",
      "+---------------+-----------+-----------+\n",
      "+---------------+-----------+-----------+\n",
      "\n",
      "{'name_income_type': {0: 'Unemployed', 1: 'Student', 2: 'Businessman', 3: 'Maternity leave'}}\n",
      "['Unemployed', 'Student', 'Businessman', 'Maternity leave']\n",
      "307452\n",
      "+----------------+-----------+-----------+\n",
      "|name_income_type|total_count|class_ratio|\n",
      "+----------------+-----------+-----------+\n",
      "|      Unemployed|         22|     1.0E-4|\n",
      "|         Student|         18|     1.0E-4|\n",
      "|     Businessman|         10|        0.0|\n",
      "| Maternity leave|          5|        0.0|\n",
      "+----------------+-----------+-----------+\n",
      "\n",
      "{'name_education_type': {}}\n",
      "[]\n",
      "307452\n",
      "+-------------------+-----------+-----------+\n",
      "|name_education_type|total_count|class_ratio|\n",
      "+-------------------+-----------+-----------+\n",
      "+-------------------+-----------+-----------+\n",
      "\n",
      "{'name_family_status': {0: 'Unknown'}}\n",
      "['Unknown']\n",
      "307450\n",
      "+------------------+-----------+-----------+\n",
      "|name_family_status|total_count|class_ratio|\n",
      "+------------------+-----------+-----------+\n",
      "|           Unknown|          2|        0.0|\n",
      "+------------------+-----------+-----------+\n",
      "\n",
      "{'name_housing_type': {}}\n",
      "[]\n",
      "307450\n",
      "+-----------------+-----------+-----------+\n",
      "|name_housing_type|total_count|class_ratio|\n",
      "+-----------------+-----------+-----------+\n",
      "+-----------------+-----------+-----------+\n",
      "\n",
      "{'occupation_type': {}}\n",
      "[]\n",
      "307450\n",
      "+---------------+-----------+-----------+\n",
      "|occupation_type|total_count|class_ratio|\n",
      "+---------------+-----------+-----------+\n",
      "+---------------+-----------+-----------+\n",
      "\n",
      "{'weekday_appr_process_start': {}}\n",
      "[]\n",
      "307450\n",
      "+--------------------------+-----------+-----------+\n",
      "|weekday_appr_process_start|total_count|class_ratio|\n",
      "+--------------------------+-----------+-----------+\n",
      "+--------------------------+-----------+-----------+\n",
      "\n",
      "{'emergencystate_mode': {}}\n",
      "[]\n",
      "307450\n",
      "+-------------------+-----------+-----------+\n",
      "|emergencystate_mode|total_count|class_ratio|\n",
      "+-------------------+-----------+-----------+\n",
      "+-------------------+-----------+-----------+\n",
      "\n"
     ]
    }
   ],
   "source": [
    "weak_class_ratio=0.0005\n",
    "weak_classes_dict={}\n",
    "for col in cat_cols_and_distinc_cls_dict.keys():\n",
    "    # calculate weak class total count and class ratio than filter if class ration less than user specfied value\n",
    "    dummy_df = train_df2.groupBy(col) \\\n",
    "    .agg(F.count(\"*\").alias(\"total_count\")) \\\n",
    "    .orderBy(F.desc(\"total_count\")) \\\n",
    "    .withColumn(\"class_ratio\", F.round( F.col(\"total_count\") / F.lit(train_df2_count),4 )) \\\n",
    "    .filter(F.col(\"class_ratio\") < weak_class_ratio )\n",
    "    dummy_df.show()\n",
    "    \n",
    "    # Make a dictionary col name is key and weak classes value as another dictionary\n",
    "    my_dict = dummy_df.select(dummy_df.columns[0]).toPandas().to_dict()\n",
    "    print(my_dict)\n",
    "    # Get weak classes as list\n",
    "    weak_calss_list = list(my_dict[col].values())\n",
    "    print(weak_calss_list)\n",
    "    \n",
    "    # filter out rows that contain weak clases\n",
    "    train_df2 = train_df2.filter( ~ (F.col(col).isin(weak_calss_list))  )\n",
    "    print(train_df2.count())\n",
    "    \n",
    "    # Collect deleted weak classes in a dictionary\n",
    "    if weak_calss_list:\n",
    "        weak_classes_dict[col] = weak_calss_list\n",
    "    \n",
    "    "
   ]
  },
  {
   "cell_type": "code",
   "execution_count": 109,
   "metadata": {},
   "outputs": [
    {
     "name": "stdout",
     "output_type": "stream",
     "text": [
      "{'code_gender': ['XNA'], 'name_income_type': ['Unemployed', 'Student', 'Businessman', 'Maternity leave'], 'name_family_status': ['Unknown']}\n"
     ]
    }
   ],
   "source": [
    "print(weak_classes_dict)"
   ]
  },
  {
   "cell_type": "code",
   "execution_count": 93,
   "metadata": {},
   "outputs": [],
   "source": [
    "my_dict = {'name_income_type': {0: 'Unemployed', 1: 'Student', 2: 'Businessman', 3: 'Maternity leave'}}"
   ]
  },
  {
   "cell_type": "code",
   "execution_count": 94,
   "metadata": {},
   "outputs": [
    {
     "data": {
      "text/plain": [
       "dict_values(['Unemployed', 'Student', 'Businessman', 'Maternity leave'])"
      ]
     },
     "execution_count": 94,
     "metadata": {},
     "output_type": "execute_result"
    }
   ],
   "source": [
    "my_dict['name_income_type'].values()"
   ]
  },
  {
   "cell_type": "code",
   "execution_count": 51,
   "metadata": {},
   "outputs": [],
   "source": [
    "# Delete rows where;\n",
    "# 1. code_gender == XNA  4\n",
    "# 2. name_income_type == Maternity leave  5\n",
    "# 3. name_family_status == Unknown 2"
   ]
  },
  {
   "cell_type": "code",
   "execution_count": null,
   "metadata": {},
   "outputs": [],
   "source": [
    "for col"
   ]
  },
  {
   "cell_type": "code",
   "execution_count": 52,
   "metadata": {},
   "outputs": [
    {
     "data": {
      "text/plain": [
       "307500"
      ]
     },
     "execution_count": 52,
     "metadata": {},
     "output_type": "execute_result"
    }
   ],
   "source": [
    "train_df2.filter(~\n",
    "                 ((F.col(\"code_gender\") == 'XNA') | \n",
    "                 (F.col(\"name_income_type\") == 'Maternity leave') | \n",
    "                 (F.col(\"name_family_status\") == 'Unknown'))\n",
    "                ).count()"
   ]
  },
  {
   "cell_type": "code",
   "execution_count": 53,
   "metadata": {},
   "outputs": [
    {
     "data": {
      "text/plain": [
       "307511"
      ]
     },
     "execution_count": 53,
     "metadata": {},
     "output_type": "execute_result"
    }
   ],
   "source": [
    "train_df2.count()"
   ]
  },
  {
   "cell_type": "code",
   "execution_count": 54,
   "metadata": {},
   "outputs": [],
   "source": [
    "train_df3 = train_df2.filter(~\n",
    "                 ((F.col(\"code_gender\") == 'XNA') | \n",
    "                 (F.col(\"name_income_type\") == 'Maternity leave') | \n",
    "                 (F.col(\"name_family_status\") == 'Unknown'))\n",
    "                )"
   ]
  },
  {
   "cell_type": "code",
   "execution_count": 55,
   "metadata": {},
   "outputs": [
    {
     "data": {
      "text/plain": [
       "307500"
      ]
     },
     "execution_count": 55,
     "metadata": {},
     "output_type": "execute_result"
    }
   ],
   "source": [
    "train_df3.count()"
   ]
  },
  {
   "cell_type": "code",
   "execution_count": 56,
   "metadata": {},
   "outputs": [],
   "source": [
    "test_df3 = test_df2.filter(~\n",
    "                 ((F.col(\"code_gender\") == 'XNA') | \n",
    "                 (F.col(\"name_income_type\") == 'Maternity leave') | \n",
    "                 (F.col(\"name_family_status\") == 'Unknown'))\n",
    "                )"
   ]
  },
  {
   "cell_type": "code",
   "execution_count": 57,
   "metadata": {},
   "outputs": [
    {
     "name": "stdout",
     "output_type": "stream",
     "text": [
      "48744\n",
      "48744\n"
     ]
    }
   ],
   "source": [
    "print(test_df2.count())\n",
    "print(test_df3.count())"
   ]
  },
  {
   "cell_type": "markdown",
   "metadata": {},
   "source": [
    "# ML Pipelines"
   ]
  },
  {
   "cell_type": "markdown",
   "metadata": {},
   "source": [
    "# StringIndexer For Categorical"
   ]
  },
  {
   "cell_type": "code",
   "execution_count": 58,
   "metadata": {},
   "outputs": [],
   "source": [
    "from pyspark.ml.feature import StringIndexer\n",
    "string_indexer_dict = {\n",
    "    \"column_names\": [],\n",
    "    \"onehot_column_names\": []\n",
    "}\n",
    "\n",
    "for col in categoric_cols:\n",
    "    string_indexer_dict[\"column_names\"].append(col+\"_str_idx\")\n",
    "    string_indexer_dict[\"onehot_column_names\"].append(col+\"_onehot\")\n",
    "    "
   ]
  },
  {
   "cell_type": "code",
   "execution_count": 59,
   "metadata": {},
   "outputs": [
    {
     "name": "stdout",
     "output_type": "stream",
     "text": [
      "['name_contract_type_str_idx', 'code_gender_str_idx', 'flag_own_car_str_idx', 'flag_own_realty_str_idx', 'name_type_suite_str_idx', 'name_income_type_str_idx', 'name_education_type_str_idx', 'name_family_status_str_idx', 'name_housing_type_str_idx', 'occupation_type_str_idx', 'weekday_appr_process_start_str_idx', 'organization_type_str_idx', 'emergencystate_mode_str_idx']\n"
     ]
    }
   ],
   "source": [
    "print(string_indexer_dict[\"column_names\"])"
   ]
  },
  {
   "cell_type": "code",
   "execution_count": 60,
   "metadata": {},
   "outputs": [
    {
     "name": "stdout",
     "output_type": "stream",
     "text": [
      "['name_contract_type_onehot', 'code_gender_onehot', 'flag_own_car_onehot', 'flag_own_realty_onehot', 'name_type_suite_onehot', 'name_income_type_onehot', 'name_education_type_onehot', 'name_family_status_onehot', 'name_housing_type_onehot', 'occupation_type_onehot', 'weekday_appr_process_start_onehot', 'organization_type_onehot', 'emergencystate_mode_onehot']\n"
     ]
    }
   ],
   "source": [
    "print(string_indexer_dict[\"onehot_column_names\"])"
   ]
  },
  {
   "cell_type": "code",
   "execution_count": 61,
   "metadata": {},
   "outputs": [],
   "source": [
    "indexer = StringIndexer() \\\n",
    ".setInputCols(categoric_cols) \\\n",
    ".setOutputCols(string_indexer_dict[\"column_names\"])"
   ]
  },
  {
   "cell_type": "markdown",
   "metadata": {},
   "source": [
    "# OneHotEncoder"
   ]
  },
  {
   "cell_type": "code",
   "execution_count": 62,
   "metadata": {},
   "outputs": [],
   "source": [
    "from pyspark.ml.feature import OneHotEncoder"
   ]
  },
  {
   "cell_type": "code",
   "execution_count": 63,
   "metadata": {},
   "outputs": [],
   "source": [
    "encoder = OneHotEncoder() \\\n",
    ".setInputCols(string_indexer_dict[\"column_names\"]) \\\n",
    ".setOutputCols(string_indexer_dict[\"onehot_column_names\"])"
   ]
  },
  {
   "cell_type": "markdown",
   "metadata": {},
   "source": [
    "# VectorAssembler"
   ]
  },
  {
   "cell_type": "code",
   "execution_count": 64,
   "metadata": {},
   "outputs": [],
   "source": [
    "from pyspark.ml.feature import VectorAssembler"
   ]
  },
  {
   "cell_type": "code",
   "execution_count": 65,
   "metadata": {},
   "outputs": [],
   "source": [
    "assembler = VectorAssembler() \\\n",
    ".setInputCols(numeric_cols+string_indexer_dict[\"onehot_column_names\"]) \\\n",
    ".setOutputCol(\"non_scaled_features\")"
   ]
  },
  {
   "cell_type": "markdown",
   "metadata": {},
   "source": [
    "# Scaler"
   ]
  },
  {
   "cell_type": "code",
   "execution_count": 66,
   "metadata": {},
   "outputs": [],
   "source": [
    "from pyspark.ml.feature import MinMaxScaler"
   ]
  },
  {
   "cell_type": "code",
   "execution_count": 67,
   "metadata": {},
   "outputs": [],
   "source": [
    "scaler = MinMaxScaler() \\\n",
    ".setInputCol(\"non_scaled_features\") \\\n",
    ".setOutputCol(\"features\")"
   ]
  },
  {
   "cell_type": "markdown",
   "metadata": {},
   "source": [
    "# Estimator"
   ]
  },
  {
   "cell_type": "code",
   "execution_count": 68,
   "metadata": {},
   "outputs": [],
   "source": [
    "from pyspark.ml.classification import RandomForestClassifier"
   ]
  },
  {
   "cell_type": "code",
   "execution_count": 69,
   "metadata": {},
   "outputs": [],
   "source": [
    "estimator = RandomForestClassifier() \\\n",
    ".setFeaturesCol(\"features\") \\\n",
    ".setLabelCol(\"target\")"
   ]
  },
  {
   "cell_type": "markdown",
   "metadata": {},
   "source": [
    "# Pipeline"
   ]
  },
  {
   "cell_type": "code",
   "execution_count": null,
   "metadata": {},
   "outputs": [],
   "source": [
    "from pyspark.ml import Pipeline"
   ]
  },
  {
   "cell_type": "code",
   "execution_count": null,
   "metadata": {},
   "outputs": [],
   "source": [
    "pipeline_obj = Pipeline() \\\n",
    ".setStages([indexer, encoder, assembler, scaler, estimator])"
   ]
  },
  {
   "cell_type": "markdown",
   "metadata": {},
   "source": [
    "# Train Model"
   ]
  },
  {
   "cell_type": "code",
   "execution_count": null,
   "metadata": {},
   "outputs": [],
   "source": [
    "pipeline_model = pipeline_obj.fit(train_df3)"
   ]
  },
  {
   "cell_type": "code",
   "execution_count": null,
   "metadata": {},
   "outputs": [],
   "source": [
    "pipeline_model.write().overwrite().save(\"/saved_models/homecredit-randomforest-pipeline-model\")"
   ]
  },
  {
   "cell_type": "markdown",
   "metadata": {},
   "source": [
    "# Test"
   ]
  },
  {
   "cell_type": "code",
   "execution_count": null,
   "metadata": {},
   "outputs": [],
   "source": [
    "transformed_test_df = pipeline_model.transform(test_df3)"
   ]
  },
  {
   "cell_type": "code",
   "execution_count": null,
   "metadata": {},
   "outputs": [],
   "source": [
    "transformed_test_df.limit(5).toPandas()"
   ]
  },
  {
   "cell_type": "code",
   "execution_count": null,
   "metadata": {},
   "outputs": [],
   "source": [
    "transformed_train_df = pipeline_model.transform(train_df3)"
   ]
  },
  {
   "cell_type": "markdown",
   "metadata": {},
   "source": [
    "# Evaluation with train set"
   ]
  },
  {
   "cell_type": "code",
   "execution_count": null,
   "metadata": {},
   "outputs": [],
   "source": [
    "from pyspark.ml.evaluation import BinaryClassificationEvaluator"
   ]
  },
  {
   "cell_type": "code",
   "execution_count": null,
   "metadata": {},
   "outputs": [],
   "source": [
    "evaluator = BinaryClassificationEvaluator() \\\n",
    ".setLabelCol(\"target\") \\\n",
    ".setMetricName(\"areaUnderROC\")"
   ]
  },
  {
   "cell_type": "code",
   "execution_count": null,
   "metadata": {},
   "outputs": [],
   "source": [
    "evaluator.evaluate(transformed_train_df)"
   ]
  },
  {
   "cell_type": "code",
   "execution_count": null,
   "metadata": {},
   "outputs": [],
   "source": []
  }
 ],
 "metadata": {
  "kernelspec": {
   "display_name": "venvspark",
   "language": "python",
   "name": "venvspark"
  },
  "language_info": {
   "codemirror_mode": {
    "name": "ipython",
    "version": 3
   },
   "file_extension": ".py",
   "mimetype": "text/x-python",
   "name": "python",
   "nbconvert_exporter": "python",
   "pygments_lexer": "ipython3",
   "version": "3.6.8"
  }
 },
 "nbformat": 4,
 "nbformat_minor": 4
}
